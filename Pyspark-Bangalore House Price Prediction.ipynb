{
 "cells": [
  {
   "cell_type": "markdown",
   "source": "## Import the necessary libraries",
   "metadata": {
    "cell_id": "d4df8beb-2a37-4c27-aba9-17848d6a8481",
    "tags": [],
    "is_collapsed": false,
    "deepnote_cell_type": "text-cell-h2"
   }
  },
  {
   "cell_type": "code",
   "metadata": {
    "application/vnd.databricks.v1+cell": {
     "title": "",
     "showTitle": false,
     "inputWidgets": {},
     "nuid": "0c0c717e-aaa6-489c-8bcc-096422cf5085"
    },
    "cell_id": "8a3c1c42-59bd-44a9-85f3-53707751f806",
    "deepnote_cell_type": "code"
   },
   "source": "import pyspark\nfrom pyspark.sql import SparkSession\nspark = SparkSession.builder.getOrCreate()\n# importing SparkSession then creating a new SparkSession object to use Spark",
   "execution_count": 0,
   "outputs": []
  },
  {
   "cell_type": "markdown",
   "source": "## Read the csv file within spark",
   "metadata": {
    "cell_id": "12ff80fe-855e-4d71-854e-258b26e91723",
    "tags": [],
    "is_collapsed": false,
    "deepnote_cell_type": "text-cell-h2"
   }
  },
  {
   "cell_type": "code",
   "metadata": {
    "application/vnd.databricks.v1+cell": {
     "title": "",
     "showTitle": false,
     "inputWidgets": {},
     "nuid": "826c2290-0c0e-4dfd-9d3d-fef73543b5fd"
    },
    "cell_id": "00001-cba915d3-82fc-4bb3-a69c-17def04c1106",
    "deepnote_cell_type": "code"
   },
   "source": "path = '/FileStore/tables/Bengaluru_House_Data.csv'\ndata = spark.read.option('header', 'true').csv(path)\ndata.show(10)",
   "execution_count": 0,
   "outputs": [
    {
     "output_type": "display_data",
     "metadata": {
      "application/vnd.databricks.v1+output": {
       "datasetInfos": [],
       "data": "+--------------------+-------------+--------------------+---------+-------+----------+----+-------+-----+\n|           area_type| availability|            location|     size|society|total_sqft|bath|balcony|price|\n+--------------------+-------------+--------------------+---------+-------+----------+----+-------+-----+\n|Super built-up  Area|       19-Dec|Electronic City P...|    2 BHK|Coomee |      1056|   2|      1|39.07|\n|          Plot  Area|Ready To Move|    Chikka Tirupathi|4 Bedroom|Theanmp|      2600|   5|      3|  120|\n|      Built-up  Area|Ready To Move|         Uttarahalli|    3 BHK|   null|      1440|   2|      3|   62|\n|Super built-up  Area|Ready To Move|  Lingadheeranahalli|    3 BHK|Soiewre|      1521|   3|      1|   95|\n|Super built-up  Area|Ready To Move|            Kothanur|    2 BHK|   null|      1200|   2|      1|   51|\n|Super built-up  Area|Ready To Move|          Whitefield|    2 BHK|DuenaTa|      1170|   2|      1|   38|\n|Super built-up  Area|       18-May|    Old Airport Road|    4 BHK|Jaades |      2732|   4|   null|  204|\n|Super built-up  Area|Ready To Move|        Rajaji Nagar|    4 BHK|Brway G|      3300|   4|   null|  600|\n|Super built-up  Area|Ready To Move|        Marathahalli|    3 BHK|   null|      1310|   3|      1|63.25|\n|          Plot  Area|Ready To Move|        Gandhi Bazar|6 Bedroom|   null|      1020|   6|   null|  370|\n+--------------------+-------------+--------------------+---------+-------+----------+----+-------+-----+\nonly showing top 10 rows\n\n",
       "removedWidgets": [],
       "addedWidgets": {},
       "metadata": {},
       "type": "ansi",
       "arguments": {}
      }
     },
     "data": {
      "text/plain": "+--------------------+-------------+--------------------+---------+-------+----------+----+-------+-----+\n|           area_type| availability|            location|     size|society|total_sqft|bath|balcony|price|\n+--------------------+-------------+--------------------+---------+-------+----------+----+-------+-----+\n|Super built-up  Area|       19-Dec|Electronic City P...|    2 BHK|Coomee |      1056|   2|      1|39.07|\n|          Plot  Area|Ready To Move|    Chikka Tirupathi|4 Bedroom|Theanmp|      2600|   5|      3|  120|\n|      Built-up  Area|Ready To Move|         Uttarahalli|    3 BHK|   null|      1440|   2|      3|   62|\n|Super built-up  Area|Ready To Move|  Lingadheeranahalli|    3 BHK|Soiewre|      1521|   3|      1|   95|\n|Super built-up  Area|Ready To Move|            Kothanur|    2 BHK|   null|      1200|   2|      1|   51|\n|Super built-up  Area|Ready To Move|          Whitefield|    2 BHK|DuenaTa|      1170|   2|      1|   38|\n|Super built-up  Area|       18-May|    Old Airport Road|    4 BHK|Jaades |      2732|   4|   null|  204|\n|Super built-up  Area|Ready To Move|        Rajaji Nagar|    4 BHK|Brway G|      3300|   4|   null|  600|\n|Super built-up  Area|Ready To Move|        Marathahalli|    3 BHK|   null|      1310|   3|      1|63.25|\n|          Plot  Area|Ready To Move|        Gandhi Bazar|6 Bedroom|   null|      1020|   6|   null|  370|\n+--------------------+-------------+--------------------+---------+-------+----------+----+-------+-----+\nonly showing top 10 rows\n\n"
     }
    }
   ]
  },
  {
   "cell_type": "markdown",
   "source": "## Get the Schema of the spark dataframe  using printSchema()",
   "metadata": {
    "cell_id": "7ee0fc88-8731-42ba-9dc4-5d55b3156015",
    "tags": [],
    "is_collapsed": false,
    "deepnote_cell_type": "text-cell-h2"
   }
  },
  {
   "cell_type": "code",
   "metadata": {
    "application/vnd.databricks.v1+cell": {
     "title": "",
     "showTitle": false,
     "inputWidgets": {},
     "nuid": "8cefb74d-9975-4fe1-9834-404542a4e6aa"
    },
    "cell_id": "00002-093fa3d9-9ea4-492f-88fa-bdffe970df29",
    "deepnote_cell_type": "code"
   },
   "source": "data.printSchema()",
   "execution_count": 0,
   "outputs": [
    {
     "output_type": "display_data",
     "metadata": {
      "application/vnd.databricks.v1+output": {
       "datasetInfos": [],
       "data": "root\n |-- area_type: string (nullable = true)\n |-- availability: string (nullable = true)\n |-- location: string (nullable = true)\n |-- size: string (nullable = true)\n |-- society: string (nullable = true)\n |-- total_sqft: string (nullable = true)\n |-- bath: string (nullable = true)\n |-- balcony: string (nullable = true)\n |-- price: string (nullable = true)\n\n",
       "removedWidgets": [],
       "addedWidgets": {},
       "metadata": {},
       "type": "ansi",
       "arguments": {}
      }
     },
     "data": {
      "text/plain": "root\n |-- area_type: string (nullable = true)\n |-- availability: string (nullable = true)\n |-- location: string (nullable = true)\n |-- size: string (nullable = true)\n |-- society: string (nullable = true)\n |-- total_sqft: string (nullable = true)\n |-- bath: string (nullable = true)\n |-- balcony: string (nullable = true)\n |-- price: string (nullable = true)\n\n"
     }
    }
   ]
  },
  {
   "cell_type": "markdown",
   "source": "## Check the columns in the spark dataframe",
   "metadata": {
    "cell_id": "6e4bf700-9fec-4416-83c0-014e11a81911",
    "tags": [],
    "is_collapsed": false,
    "deepnote_cell_type": "text-cell-h2"
   }
  },
  {
   "cell_type": "code",
   "metadata": {
    "application/vnd.databricks.v1+cell": {
     "title": "",
     "showTitle": false,
     "inputWidgets": {},
     "nuid": "59a04611-58c7-47f7-b1f7-72e35b688f76"
    },
    "cell_id": "00003-83a05a86-9c2c-4fff-819f-b0eec8a90ce7",
    "deepnote_cell_type": "code"
   },
   "source": "data.columns",
   "execution_count": 0,
   "outputs": [
    {
     "output_type": "display_data",
     "metadata": {
      "application/vnd.databricks.v1+output": {
       "datasetInfos": [],
       "data": "Out[4]: ['area_type',\n 'availability',\n 'location',\n 'size',\n 'society',\n 'total_sqft',\n 'bath',\n 'balcony',\n 'price']",
       "removedWidgets": [],
       "addedWidgets": {},
       "metadata": {},
       "type": "ansi",
       "arguments": {}
      }
     },
     "data": {
      "text/plain": "Out[4]: ['area_type',\n 'availability',\n 'location',\n 'size',\n 'society',\n 'total_sqft',\n 'bath',\n 'balcony',\n 'price']"
     }
    }
   ]
  },
  {
   "cell_type": "markdown",
   "source": "## Convert the columns to the appropriate data type ",
   "metadata": {
    "cell_id": "97778e65-180f-4b28-83db-41fc00d5e922",
    "tags": [],
    "is_collapsed": false,
    "deepnote_cell_type": "text-cell-h2"
   }
  },
  {
   "cell_type": "code",
   "metadata": {
    "application/vnd.databricks.v1+cell": {
     "title": "",
     "showTitle": false,
     "inputWidgets": {},
     "nuid": "d0fd658b-b6f1-45e0-8582-99a1ced29d70"
    },
    "cell_id": "00004-5a5e4bfc-5b6f-451f-a9fb-17dfd503a290",
    "deepnote_cell_type": "code"
   },
   "source": "from pyspark.sql.types import *\n\ndf_new = data.withColumn('total_sqft', data['total_sqft'].cast(IntegerType()))\ndf_new = df_new.withColumn(\"bath\", df_new[\"bath\"].cast(IntegerType()))\ndf_new = df_new.withColumn(\"balcony\", df_new[\"balcony\"].cast(IntegerType()))\ndf_new = df_new.withColumn(\"price\", df_new[\"price\"].cast(DoubleType()))\n\ndf_new.printSchema()",
   "execution_count": 0,
   "outputs": [
    {
     "output_type": "display_data",
     "metadata": {
      "application/vnd.databricks.v1+output": {
       "datasetInfos": [],
       "data": "root\n |-- area_type: string (nullable = true)\n |-- availability: string (nullable = true)\n |-- location: string (nullable = true)\n |-- size: string (nullable = true)\n |-- society: string (nullable = true)\n |-- total_sqft: integer (nullable = true)\n |-- bath: integer (nullable = true)\n |-- balcony: integer (nullable = true)\n |-- price: double (nullable = true)\n\n",
       "removedWidgets": [],
       "addedWidgets": {},
       "metadata": {},
       "type": "ansi",
       "arguments": {}
      }
     },
     "data": {
      "text/plain": "root\n |-- area_type: string (nullable = true)\n |-- availability: string (nullable = true)\n |-- location: string (nullable = true)\n |-- size: string (nullable = true)\n |-- society: string (nullable = true)\n |-- total_sqft: integer (nullable = true)\n |-- bath: integer (nullable = true)\n |-- balcony: integer (nullable = true)\n |-- price: double (nullable = true)\n\n"
     }
    }
   ]
  },
  {
   "cell_type": "code",
   "metadata": {
    "application/vnd.databricks.v1+cell": {
     "title": "",
     "showTitle": false,
     "inputWidgets": {},
     "nuid": "d75c763e-7cdb-436b-b887-e2a53d4184d1"
    },
    "cell_id": "00005-16ed849f-2df0-4031-b372-6d1c87a03439",
    "deepnote_cell_type": "code"
   },
   "source": "df_new.groupBy('area_type').count().show()",
   "execution_count": 0,
   "outputs": [
    {
     "output_type": "display_data",
     "metadata": {
      "application/vnd.databricks.v1+output": {
       "datasetInfos": [],
       "data": "+--------------------+-----+\n|           area_type|count|\n+--------------------+-----+\n|      Built-up  Area| 2418|\n|Super built-up  Area| 8790|\n|          Plot  Area| 2025|\n|        Carpet  Area|   87|\n+--------------------+-----+\n\n",
       "removedWidgets": [],
       "addedWidgets": {},
       "metadata": {},
       "type": "ansi",
       "arguments": {}
      }
     },
     "data": {
      "text/plain": "+--------------------+-----+\n|           area_type|count|\n+--------------------+-----+\n|      Built-up  Area| 2418|\n|Super built-up  Area| 8790|\n|          Plot  Area| 2025|\n|        Carpet  Area|   87|\n+--------------------+-----+\n\n"
     }
    }
   ]
  },
  {
   "cell_type": "markdown",
   "source": "**Inference**: Super built up area type has the highest number of values in the `area_type`.",
   "metadata": {
    "cell_id": "b5eb7c92-0eda-44e9-95bb-3f924d7bff5f",
    "tags": [],
    "deepnote_cell_type": "markdown"
   }
  },
  {
   "cell_type": "code",
   "metadata": {
    "application/vnd.databricks.v1+cell": {
     "title": "",
     "showTitle": false,
     "inputWidgets": {},
     "nuid": "e3f4e7c7-d927-43ae-9e65-64d8196f74ba"
    },
    "cell_id": "00006-5edfbef3-bdc9-4814-91f1-d40ba83b2d9c",
    "deepnote_cell_type": "code"
   },
   "source": "df_new.groupBy('availability').count().show()",
   "execution_count": 0,
   "outputs": [
    {
     "output_type": "display_data",
     "metadata": {
      "application/vnd.databricks.v1+output": {
       "datasetInfos": [],
       "data": "+-------------+-----+\n| availability|count|\n+-------------+-----+\n|       20-Nov|    4|\n|       20-Jan|   24|\n|       16-Oct|    1|\n|       20-Mar|    2|\n|       21-Jul|    8|\n|       20-Feb|    2|\n|       19-Jun|   40|\n|       18-Mar|  131|\n|       21-Jun|   17|\n|       19-Oct|   15|\n|Ready To Move|10581|\n|       19-Jul|   36|\n|       19-Aug|   18|\n|       21-Sep|    6|\n|       20-May|    4|\n|       17-Jan|    1|\n|       18-Nov|   47|\n|       21-Nov|    3|\n|       22-Mar|    3|\n|       21-Dec|   93|\n+-------------+-----+\nonly showing top 20 rows\n\n",
       "removedWidgets": [],
       "addedWidgets": {},
       "metadata": {},
       "type": "ansi",
       "arguments": {}
      }
     },
     "data": {
      "text/plain": "+-------------+-----+\n| availability|count|\n+-------------+-----+\n|       20-Nov|    4|\n|       20-Jan|   24|\n|       16-Oct|    1|\n|       20-Mar|    2|\n|       21-Jul|    8|\n|       20-Feb|    2|\n|       19-Jun|   40|\n|       18-Mar|  131|\n|       21-Jun|   17|\n|       19-Oct|   15|\n|Ready To Move|10581|\n|       19-Jul|   36|\n|       19-Aug|   18|\n|       21-Sep|    6|\n|       20-May|    4|\n|       17-Jan|    1|\n|       18-Nov|   47|\n|       21-Nov|    3|\n|       22-Mar|    3|\n|       21-Dec|   93|\n+-------------+-----+\nonly showing top 20 rows\n\n"
     }
    }
   ]
  },
  {
   "cell_type": "markdown",
   "source": "**Inference** : Most number of houses are Ready to move.",
   "metadata": {
    "cell_id": "8937eb1c-c65b-41e0-bdfb-9c12494aac30",
    "tags": [],
    "deepnote_cell_type": "markdown"
   }
  },
  {
   "cell_type": "code",
   "metadata": {
    "application/vnd.databricks.v1+cell": {
     "title": "",
     "showTitle": false,
     "inputWidgets": {},
     "nuid": "1c1ce737-0f08-478e-bcac-0e557d267697"
    },
    "cell_id": "00007-deda0534-4c98-4c34-b139-48eb87ca8ee9",
    "deepnote_cell_type": "code"
   },
   "source": "df_new.groupBy('location').count().show()",
   "execution_count": 0,
   "outputs": [
    {
     "output_type": "display_data",
     "metadata": {
      "application/vnd.databricks.v1+output": {
       "datasetInfos": [],
       "data": "+--------------------+-----+\n|            location|count|\n+--------------------+-----+\n|    Kaval Byrasandra|   22|\n| 7th Block Jayanagar|    5|\n|        Vittal Nagar|    3|\n|Jay an agar 4 T B...|    1|\n|            Sarjapur|   82|\n|ITI Employees Layout|    1|\n|         Nehru Nagar|   11|\n|     Teachers Colony|    2|\n|      Bendiganahalli|    2|\n|    Chikka Banaswadi|    3|\n|          BTM Layout|   17|\n|          Vimanapura|    3|\n|             manyata|    1|\n|        Bettahalsoor|    3|\n|     Ambedkar Colony|    7|\n|          Cooke Town|   16|\n|2nd Phase Judicia...|   11|\n|          SBM Colony|    2|\n|      Goraguntepalya|    1|\n|      Pragathi Nagar|    4|\n+--------------------+-----+\nonly showing top 20 rows\n\n",
       "removedWidgets": [],
       "addedWidgets": {},
       "metadata": {},
       "type": "ansi",
       "arguments": {}
      }
     },
     "data": {
      "text/plain": "+--------------------+-----+\n|            location|count|\n+--------------------+-----+\n|    Kaval Byrasandra|   22|\n| 7th Block Jayanagar|    5|\n|        Vittal Nagar|    3|\n|Jay an agar 4 T B...|    1|\n|            Sarjapur|   82|\n|ITI Employees Layout|    1|\n|         Nehru Nagar|   11|\n|     Teachers Colony|    2|\n|      Bendiganahalli|    2|\n|    Chikka Banaswadi|    3|\n|          BTM Layout|   17|\n|          Vimanapura|    3|\n|             manyata|    1|\n|        Bettahalsoor|    3|\n|     Ambedkar Colony|    7|\n|          Cooke Town|   16|\n|2nd Phase Judicia...|   11|\n|          SBM Colony|    2|\n|      Goraguntepalya|    1|\n|      Pragathi Nagar|    4|\n+--------------------+-----+\nonly showing top 20 rows\n\n"
     }
    }
   ]
  },
  {
   "cell_type": "code",
   "metadata": {
    "application/vnd.databricks.v1+cell": {
     "title": "",
     "showTitle": false,
     "inputWidgets": {},
     "nuid": "806ecb65-17d5-42d6-b602-e5e575bfd47e"
    },
    "cell_id": "00008-f2e394b8-e42a-4468-84ba-658561dab525",
    "deepnote_cell_type": "code"
   },
   "source": "df_new.groupBy('size').count().show()",
   "execution_count": 0,
   "outputs": [
    {
     "output_type": "display_data",
     "metadata": {
      "application/vnd.databricks.v1+output": {
       "datasetInfos": [],
       "data": "+----------+-----+\n|      size|count|\n+----------+-----+\n|    14 BHK|    1|\n| 5 Bedroom|  297|\n|     7 BHK|   17|\n|    16 BHK|    1|\n|      null|   16|\n| 1 Bedroom|  105|\n| 9 Bedroom|   46|\n| 3 Bedroom|  547|\n|    27 BHK|    1|\n|      1 RK|   13|\n|10 Bedroom|   12|\n|    11 BHK|    2|\n|     4 BHK|  591|\n|18 Bedroom|    1|\n| 6 Bedroom|  191|\n|     2 BHK| 5199|\n| 4 Bedroom|  826|\n| 2 Bedroom|  329|\n|     6 BHK|   30|\n|     8 BHK|    5|\n+----------+-----+\nonly showing top 20 rows\n\n",
       "removedWidgets": [],
       "addedWidgets": {},
       "metadata": {},
       "type": "ansi",
       "arguments": {}
      }
     },
     "data": {
      "text/plain": "+----------+-----+\n|      size|count|\n+----------+-----+\n|    14 BHK|    1|\n| 5 Bedroom|  297|\n|     7 BHK|   17|\n|    16 BHK|    1|\n|      null|   16|\n| 1 Bedroom|  105|\n| 9 Bedroom|   46|\n| 3 Bedroom|  547|\n|    27 BHK|    1|\n|      1 RK|   13|\n|10 Bedroom|   12|\n|    11 BHK|    2|\n|     4 BHK|  591|\n|18 Bedroom|    1|\n| 6 Bedroom|  191|\n|     2 BHK| 5199|\n| 4 Bedroom|  826|\n| 2 Bedroom|  329|\n|     6 BHK|   30|\n|     8 BHK|    5|\n+----------+-----+\nonly showing top 20 rows\n\n"
     }
    }
   ]
  },
  {
   "cell_type": "markdown",
   "source": "## Check the correlation between total_sqft and price",
   "metadata": {
    "cell_id": "f5ea47a9-5a88-4fa9-9519-1d09a2c9622c",
    "tags": [],
    "is_collapsed": false,
    "deepnote_cell_type": "text-cell-h2"
   }
  },
  {
   "cell_type": "code",
   "metadata": {
    "application/vnd.databricks.v1+cell": {
     "title": "",
     "showTitle": false,
     "inputWidgets": {},
     "nuid": "d61a5c06-5495-412f-82a2-44edd592cb44"
    },
    "cell_id": "00010-3900e11a-05fc-475b-88e3-0eb3f9fd69be",
    "deepnote_cell_type": "code"
   },
   "source": "from pyspark.sql.functions import corr\ndf_new.select(corr('total_sqft','price')).show()",
   "execution_count": 0,
   "outputs": [
    {
     "output_type": "display_data",
     "metadata": {
      "application/vnd.databricks.v1+output": {
       "datasetInfos": [],
       "data": "+-----------------------+\n|corr(total_sqft, price)|\n+-----------------------+\n|     0.5729032305054705|\n+-----------------------+\n\n",
       "removedWidgets": [],
       "addedWidgets": {},
       "metadata": {},
       "type": "ansi",
       "arguments": {}
      }
     },
     "data": {
      "text/plain": "+-----------------------+\n|corr(total_sqft, price)|\n+-----------------------+\n|     0.5729032305054705|\n+-----------------------+\n\n"
     }
    }
   ]
  },
  {
   "cell_type": "markdown",
   "source": "**Inference**: There is a positive correlation between `total_sqft` and `price`.",
   "metadata": {
    "cell_id": "6de42b4e-1f37-468c-b514-7f0bb13d8146",
    "tags": [],
    "deepnote_cell_type": "markdown"
   }
  },
  {
   "cell_type": "markdown",
   "source": "## Check the missing values in the dataframe",
   "metadata": {
    "cell_id": "1f4673b4-994c-4f38-b295-87c453489bf4",
    "tags": [],
    "is_collapsed": false,
    "deepnote_cell_type": "text-cell-h2"
   }
  },
  {
   "cell_type": "code",
   "metadata": {
    "application/vnd.databricks.v1+cell": {
     "title": "",
     "showTitle": false,
     "inputWidgets": {},
     "nuid": "35867c99-c04e-4af4-830b-593a3b47ef2d"
    },
    "cell_id": "00011-7eb9680c-6cd2-491b-adc1-d917dd7b4607",
    "deepnote_cell_type": "code"
   },
   "source": "from pyspark.sql.functions import isnull, when, count, col,isnan\ndf_new.select([count(when(isnan(c) | col(c).isNull(), c)).alias(c) for c in df_new.columns]).show()",
   "execution_count": 0,
   "outputs": [
    {
     "output_type": "display_data",
     "metadata": {
      "application/vnd.databricks.v1+output": {
       "datasetInfos": [],
       "data": "+---------+------------+--------+----+-------+----------+----+-------+-----+\n|area_type|availability|location|size|society|total_sqft|bath|balcony|price|\n+---------+------------+--------+----+-------+----------+----+-------+-----+\n|        0|           0|       1|  16|   5502|       247|  73|    609|    0|\n+---------+------------+--------+----+-------+----------+----+-------+-----+\n\n",
       "removedWidgets": [],
       "addedWidgets": {},
       "metadata": {},
       "type": "ansi",
       "arguments": {}
      }
     },
     "data": {
      "text/plain": "+---------+------------+--------+----+-------+----------+----+-------+-----+\n|area_type|availability|location|size|society|total_sqft|bath|balcony|price|\n+---------+------------+--------+----+-------+----------+----+-------+-----+\n|        0|           0|       1|  16|   5502|       247|  73|    609|    0|\n+---------+------------+--------+----+-------+----------+----+-------+-----+\n\n"
     }
    }
   ]
  },
  {
   "cell_type": "markdown",
   "source": "**Inference**: There are missing values. `society` has the highest number of values that are null/nan. Hence we can drop that column, as it has no further significance.",
   "metadata": {
    "cell_id": "1d1d205d-9b8b-4c60-be0d-f068b5ee56d2",
    "tags": [],
    "deepnote_cell_type": "markdown"
   }
  },
  {
   "cell_type": "code",
   "metadata": {
    "application/vnd.databricks.v1+cell": {
     "title": "",
     "showTitle": false,
     "inputWidgets": {},
     "nuid": "8990749a-8971-4abe-b8d6-e670b4bb844b"
    },
    "cell_id": "00012-89fca6ce-5a8f-47c5-a7f0-b4de2a04c34d",
    "deepnote_cell_type": "code"
   },
   "source": "df_new = df_new.drop('society')\ndf_new.columns",
   "execution_count": 0,
   "outputs": [
    {
     "output_type": "display_data",
     "metadata": {
      "application/vnd.databricks.v1+output": {
       "datasetInfos": [],
       "data": "Out[14]: ['area_type',\n 'availability',\n 'location',\n 'size',\n 'total_sqft',\n 'bath',\n 'balcony',\n 'price']",
       "removedWidgets": [],
       "addedWidgets": {},
       "metadata": {},
       "type": "ansi",
       "arguments": {}
      }
     },
     "data": {
      "text/plain": "Out[14]: ['area_type',\n 'availability',\n 'location',\n 'size',\n 'total_sqft',\n 'bath',\n 'balcony',\n 'price']"
     }
    }
   ]
  },
  {
   "cell_type": "markdown",
   "source": "**Inference**: The `society` column has been dropped.",
   "metadata": {
    "cell_id": "27547434-0da6-46d9-9880-7dba73368c48",
    "tags": [],
    "deepnote_cell_type": "markdown"
   }
  },
  {
   "cell_type": "code",
   "metadata": {
    "application/vnd.databricks.v1+cell": {
     "title": "",
     "showTitle": false,
     "inputWidgets": {},
     "nuid": "a634b4cb-b95e-45ba-83a1-273ce5daf19b"
    },
    "cell_id": "00013-6beab156-8b56-40d5-91a4-3f24d094acda",
    "deepnote_cell_type": "code"
   },
   "source": "print(df_new.count(), len(df_new.columns))",
   "execution_count": 0,
   "outputs": [
    {
     "output_type": "display_data",
     "metadata": {
      "application/vnd.databricks.v1+output": {
       "datasetInfos": [],
       "data": "13320 8\n",
       "removedWidgets": [],
       "addedWidgets": {},
       "metadata": {},
       "type": "ansi",
       "arguments": {}
      }
     },
     "data": {
      "text/plain": "13320 8\n"
     }
    }
   ]
  },
  {
   "cell_type": "markdown",
   "source": "## Drop the nan values across the rows",
   "metadata": {
    "cell_id": "b29f8041-fb1c-4295-818c-fd0833f87dc3",
    "tags": [],
    "is_collapsed": false,
    "deepnote_cell_type": "text-cell-h2"
   }
  },
  {
   "cell_type": "code",
   "metadata": {
    "application/vnd.databricks.v1+cell": {
     "title": "",
     "showTitle": false,
     "inputWidgets": {},
     "nuid": "46f89e83-bb1e-412c-841a-bc55caa18717"
    },
    "cell_id": "00014-83cf32aa-8f5f-4c8a-93ee-6e143bee3413",
    "deepnote_cell_type": "code"
   },
   "source": "df_c = df_new.na.drop()\nprint(df_c.count(), len(df_c.columns))",
   "execution_count": 0,
   "outputs": [
    {
     "output_type": "display_data",
     "metadata": {
      "application/vnd.databricks.v1+output": {
       "datasetInfos": [],
       "data": "12524 8\n",
       "removedWidgets": [],
       "addedWidgets": {},
       "metadata": {},
       "type": "ansi",
       "arguments": {}
      }
     },
     "data": {
      "text/plain": "12524 8\n"
     }
    }
   ]
  },
  {
   "cell_type": "markdown",
   "source": "**Inference** The nan values have been dropped.",
   "metadata": {
    "cell_id": "976f4f1f-fae3-4084-917b-ead293b8b975",
    "tags": [],
    "deepnote_cell_type": "markdown"
   }
  },
  {
   "cell_type": "markdown",
   "source": "## Convert all the string columns into numeric values using StringIndexer transformer",
   "metadata": {
    "cell_id": "e86a98e3-6cf9-4125-be70-3f64f1c0bc54",
    "tags": [],
    "is_collapsed": false,
    "deepnote_cell_type": "text-cell-h2"
   }
  },
  {
   "cell_type": "code",
   "metadata": {
    "application/vnd.databricks.v1+cell": {
     "title": "",
     "showTitle": false,
     "inputWidgets": {},
     "nuid": "81df2225-af07-4cf3-9dd8-0799c3e3b58f"
    },
    "cell_id": "00015-348620d6-5f92-4bfd-ab7d-4bac874f1822",
    "deepnote_cell_type": "code"
   },
   "source": "from pyspark.ml.feature import StringIndexer, OneHotEncoder, VectorAssembler\n\nindexers = StringIndexer(inputCols= [ 'area_type', 'availability','location', 'size'], \n                         outputCols=[  'area_type_index', 'availability_index','location_index', 'size_index'],\n                        handleInvalid='keep')\ndf_ = indexers.fit(df_c).transform(df_c)\n",
   "execution_count": 0,
   "outputs": []
  },
  {
   "cell_type": "markdown",
   "source": "##  Represent each of the indexed values in one form with a one-hot \nencoded vector using OneHotEncoder",
   "metadata": {
    "cell_id": "3ad19c99-d3bc-4d51-b44b-433dc0c1b671",
    "tags": [],
    "is_collapsed": false,
    "deepnote_cell_type": "text-cell-h2"
   }
  },
  {
   "cell_type": "code",
   "metadata": {
    "application/vnd.databricks.v1+cell": {
     "title": "",
     "showTitle": false,
     "inputWidgets": {},
     "nuid": "58e3288d-cd26-415c-afe3-290def0b6e3d"
    },
    "cell_id": "00016-071931c4-1fc1-4cc8-90e7-426cf22372cd",
    "deepnote_cell_type": "code"
   },
   "source": "encoder = OneHotEncoder(inputCols=[ 'area_type_index', 'availability_index','location_index', 'size_index'],\n                        outputCols=[ 'area_type_vec', 'availability_vec','location_vec', 'size_vec'])\ndf__ = encoder.fit(df_).transform(df_)",
   "execution_count": 0,
   "outputs": []
  },
  {
   "cell_type": "markdown",
   "source": "## Assemble all of the input columns into one single vector that would act as the input feature for the model using VectorAssembler",
   "metadata": {
    "cell_id": "101c3507-b386-4872-ac61-5769b6d26380",
    "tags": [],
    "is_collapsed": false,
    "deepnote_cell_type": "text-cell-h2"
   }
  },
  {
   "cell_type": "code",
   "metadata": {
    "application/vnd.databricks.v1+cell": {
     "title": "",
     "showTitle": false,
     "inputWidgets": {},
     "nuid": "629767b8-43e0-4da7-bb7f-d1fe383a1000"
    },
    "cell_id": "00017-cd5e4f9a-49c7-4328-8236-d96a300d78e3",
    "deepnote_cell_type": "code"
   },
   "source": "assembler = VectorAssembler(inputCols=['area_type_vec', 'availability_vec','location_vec', 'size_vec', 'total_sqft',\n                             'bath','balcony' ], outputCol='features')\ndf = assembler.transform(df__)\n",
   "execution_count": 0,
   "outputs": []
  },
  {
   "cell_type": "code",
   "metadata": {
    "application/vnd.databricks.v1+cell": {
     "title": "",
     "showTitle": false,
     "inputWidgets": {},
     "nuid": "77bf0187-57db-4d29-823e-db2de8af86e5"
    },
    "cell_id": "00018-c7110f6e-f317-4968-a731-d767c72c6d94",
    "deepnote_cell_type": "code"
   },
   "source": "df = df.select('features', 'price')\ndf.show(10)",
   "execution_count": 0,
   "outputs": [
    {
     "output_type": "display_data",
     "metadata": {
      "application/vnd.databricks.v1+output": {
       "datasetInfos": [],
       "data": "+--------------------+-----+\n|            features|price|\n+--------------------+-----+\n|(1371,[0,9,96,134...|39.07|\n|(1371,[2,4,261,13...|120.0|\n|(1371,[1,4,88,134...| 62.0|\n|(1371,[0,4,208,13...| 95.0|\n|(1371,[0,4,122,13...| 51.0|\n|(1371,[0,4,82,134...| 38.0|\n|(1371,[0,4,91,134...|63.25|\n|(1371,[0,16,82,13...| 70.0|\n|(1371,[2,4,82,134...|295.0|\n|(1371,[0,4,92,134...| 38.0|\n+--------------------+-----+\nonly showing top 10 rows\n\n",
       "removedWidgets": [],
       "addedWidgets": {},
       "metadata": {},
       "type": "ansi",
       "arguments": {}
      }
     },
     "data": {
      "text/plain": "+--------------------+-----+\n|            features|price|\n+--------------------+-----+\n|(1371,[0,9,96,134...|39.07|\n|(1371,[2,4,261,13...|120.0|\n|(1371,[1,4,88,134...| 62.0|\n|(1371,[0,4,208,13...| 95.0|\n|(1371,[0,4,122,13...| 51.0|\n|(1371,[0,4,82,134...| 38.0|\n|(1371,[0,4,91,134...|63.25|\n|(1371,[0,16,82,13...| 70.0|\n|(1371,[2,4,82,134...|295.0|\n|(1371,[0,4,92,134...| 38.0|\n+--------------------+-----+\nonly showing top 10 rows\n\n"
     }
    }
   ]
  },
  {
   "cell_type": "markdown",
   "source": "## Select only the features column as input and the price column as output for \ntraining the linear regression model",
   "metadata": {
    "cell_id": "2f0f6ea0-d183-48c3-9962-6ab6c8844e56",
    "tags": [],
    "is_collapsed": false,
    "deepnote_cell_type": "text-cell-h2"
   }
  },
  {
   "cell_type": "code",
   "metadata": {
    "application/vnd.databricks.v1+cell": {
     "title": "",
     "showTitle": false,
     "inputWidgets": {},
     "nuid": "0dbaccb9-63fc-4007-9655-4de9e138c2de"
    },
    "cell_id": "00019-6dab97c4-39fe-4451-837b-761303848114",
    "deepnote_cell_type": "code"
   },
   "source": "model_df= df.select('features','price')",
   "execution_count": 0,
   "outputs": []
  },
  {
   "cell_type": "code",
   "metadata": {
    "application/vnd.databricks.v1+cell": {
     "title": "",
     "showTitle": false,
     "inputWidgets": {},
     "nuid": "b5c13bf6-462c-46b7-861d-29b71e80399b"
    },
    "cell_id": "00020-961093c4-e9a9-46ca-9e89-edeb35c5cf8b",
    "deepnote_cell_type": "code"
   },
   "source": "print((model_df.count(), len(model_df.columns)))",
   "execution_count": 0,
   "outputs": [
    {
     "output_type": "display_data",
     "metadata": {
      "application/vnd.databricks.v1+output": {
       "datasetInfos": [],
       "data": "(12524, 2)\n",
       "removedWidgets": [],
       "addedWidgets": {},
       "metadata": {},
       "type": "ansi",
       "arguments": {}
      }
     },
     "data": {
      "text/plain": "(12524, 2)\n"
     }
    }
   ]
  },
  {
   "cell_type": "markdown",
   "source": "## Split the dataframe into train and test sets in order to train and evaluate\n",
   "metadata": {
    "cell_id": "8fd7a685-c3b3-4ed8-8175-bac052f44014",
    "tags": [],
    "is_collapsed": false,
    "deepnote_cell_type": "text-cell-h2"
   }
  },
  {
   "cell_type": "code",
   "metadata": {
    "application/vnd.databricks.v1+cell": {
     "title": "",
     "showTitle": false,
     "inputWidgets": {},
     "nuid": "19fea964-01b8-4227-91eb-ef632f483cf5"
    },
    "cell_id": "00021-94b50178-225e-4feb-9909-663d9ff6e595",
    "deepnote_cell_type": "code"
   },
   "source": "train_df,test_df=model_df.randomSplit([0.75,0.25])\nprint((train_df.count(), len(train_df.columns)))\nprint((test_df.count(), len(test_df.columns)))",
   "execution_count": 0,
   "outputs": [
    {
     "output_type": "display_data",
     "metadata": {
      "application/vnd.databricks.v1+output": {
       "datasetInfos": [],
       "data": "(9370, 2)\n(3154, 2)\n",
       "removedWidgets": [],
       "addedWidgets": {},
       "metadata": {},
       "type": "ansi",
       "arguments": {}
      }
     },
     "data": {
      "text/plain": "(9370, 2)\n(3154, 2)\n"
     }
    }
   ]
  },
  {
   "cell_type": "markdown",
   "source": "**Inference** : We split the dataframe in 75/25 ratio and train our model on 75% of the dataset",
   "metadata": {
    "cell_id": "eccc0b83-1fb2-4cb8-ad09-77cd5b2601ea",
    "tags": [],
    "deepnote_cell_type": "markdown"
   }
  },
  {
   "cell_type": "markdown",
   "source": "## Build a Linear Regression model, then print the coefficients and intercept",
   "metadata": {
    "cell_id": "0017b674-fc03-4d41-b883-409e68982194",
    "tags": [],
    "is_collapsed": false,
    "deepnote_cell_type": "text-cell-h2"
   }
  },
  {
   "cell_type": "code",
   "metadata": {
    "application/vnd.databricks.v1+cell": {
     "title": "",
     "showTitle": false,
     "inputWidgets": {},
     "nuid": "45b8ce84-db27-4916-a0c4-9dedfa186880"
    },
    "cell_id": "00023-7a2f8c5e-02ac-41a5-8644-e21742e95048",
    "deepnote_cell_type": "code"
   },
   "source": "from pyspark.ml.regression import LinearRegression\nlin_reg = LinearRegression(labelCol='price')\n",
   "execution_count": 0,
   "outputs": []
  },
  {
   "cell_type": "code",
   "metadata": {
    "application/vnd.databricks.v1+cell": {
     "title": "",
     "showTitle": false,
     "inputWidgets": {},
     "nuid": "94d4ad48-12c2-4cc5-a17d-a5170691b37b"
    },
    "cell_id": "00024-2a359fe2-2451-423e-902c-6b883fa0b027",
    "deepnote_cell_type": "code"
   },
   "source": "lr_model = lin_reg.fit(train_df)",
   "execution_count": 0,
   "outputs": []
  },
  {
   "cell_type": "code",
   "metadata": {
    "application/vnd.databricks.v1+cell": {
     "title": "",
     "showTitle": false,
     "inputWidgets": {},
     "nuid": "b0336a79-b667-4d62-9d5e-36195b4d0ce5"
    },
    "cell_id": "00025-b60b0247-3549-4845-b834-87eef1f05a37",
    "deepnote_cell_type": "code"
   },
   "source": "print(lr_model.coefficients)",
   "execution_count": 0,
   "outputs": [
    {
     "output_type": "display_data",
     "metadata": {
      "application/vnd.databricks.v1+output": {
       "datasetInfos": [],
       "data": "[-13.145347392161165,-14.723308138784237,41.70604960995152,-4.539807486308372,-3.2715690421337476,-6.321260209849993,-5.789912345108837,6.3325244127959115,-6.152369232503143,-6.744298227219199,-13.63826787311768,16.938822406974136,-10.296023373765907,3.6904718781280907,6.949128726354645,2.5847454893988666,-4.591308133013084,8.470606731438112,-12.966490971265605,182.9304070872814,-25.295859081077843,57.45908093354914,-0.9241247923546961,11.015409553415815,-6.299204273265504,1.2893897609837746,-18.5107210944927,-5.277137403554312,37.10852062998193,-1.8565601515099828,6.523989190789846,-3.320564915198755,3.9336566367881347,1.6610153584197698,-2.3949100495323252,-12.920849560737746,27.509184360789167,12.076762563392911,11.937052999214693,1.797591194244539,135.12055453371366,-0.8084076298821646,21.85257275328394,-15.695854718977694,-9.336185389291023,-22.144832103468207,-0.20844453027386417,25.235332582501588,27.955188810913267,-8.905009801178258,34.698307802666335,13.55154739469145,0.0,16.834917723436785,20.093968992069755,42.97009595715638,-36.9534125270139,2.074616396410577,-51.64808880573037,-25.727262432532388,68.01759635733175,6.953481816876069,4.279750470205016,1.0452284532429343,-17.66249737012086,6.346017918109351,0.0,-22.060139623091242,0.0,-4.405282629030349,-15.429899597148404,0.0,6.409635866631665,-39.573266797536824,-1.1098814636137895,-97.58624762119868,-60.77624727430492,-22.100439179979748,11.245405282695973,-24.660076224287668,1.1186301094564968,-36.63000794803294,-1.1509657567914733,3.0758498911342316,-12.058280587905784,-21.499969991475083,-7.308480526175951,-15.033405383716438,-15.81008403629136,28.9426887758801,-20.87194253780301,-8.790726799903918,5.399811889735659,3.095154886231338,-16.339313987762306,-9.543635868413737,-16.09353960467741,152.50464517500953,-44.49731772652564,-5.087575672801562,-12.80373127421972,-13.884076562534291,-27.679604015107607,-25.97195306736788,-8.769882647300298,-35.590996473601706,6.28867526778355,4.217748488385911,7.492170456687418,-29.618625505738155,-20.861708866575313,84.4520815923942,-19.09477306911816,-24.470900401507013,-12.803223494636725,6.510347961956326,-15.408941704392602,12.937191832835914,6.713435621348483,-24.658579966944096,-40.794170531289474,9.418136998787901,-21.59400787284638,-15.89084735939076,-17.706691844105666,-8.276930753910783,189.07035984283198,-8.563488722055093,-14.875455113282392,-13.923156181847764,3.207987909654088,2.63824878488112,1.151066867276015,-10.683975689730289,-30.02023936967576,28.313943612956326,-1.210897564380715,-1.5112913103083205,-14.76810126817339,11.067766186338167,-9.937753188736712,-0.08198753659754175,-0.8915784725481893,-5.608151718319853,1.938622111033746,-4.430076049457053,-5.728043720688302,-24.559372871009632,-15.77129511243437,19.23020543152885,-38.58067313202326,116.37855538930773,-36.10430773019355,16.439608724714105,-36.000803319152276,-41.860396241316245,-26.616463882474243,-2.6992919709924146,-17.828843245605896,-20.629334700235738,3.3396671273479677,-4.237075503914888,-79.90783349199647,-17.74260758134918,23.021394531714204,-16.67830725290186,21.16043284026007,-2.980068633394692,8.00358987061367,11.058939269818529,-22.703985277103687,-27.81056257025523,-0.3545766336926872,-22.45931137372693,90.97928517193535,13.404828198952771,76.06925316124928,-11.422021144284342,-25.58657823646603,-12.780240258785108,-7.60546658214391,21.911336385242,16.4340389585914,36.211410284826655,-28.29973239248091,-27.971301499435484,-41.442191792068506,-37.911730572701515,25.339895418436186,-14.372711222424705,-26.40385980935088,0.15820999945311698,-27.282042306440953,-36.97946054567054,24.75814516698683,7.28668876705679,-24.481437529664372,-34.682843217503354,-0.7841312824484478,-33.36376409177491,-39.230898989359105,1.88373751477231,-29.44518582254283,7.085356206101932,-4.409522424682068,-21.465289378172464,-17.33517937936778,18.285797680745294,3.9014264268602474,-12.691544783372805,5.36144411040621,-0.3743570791964792,-9.875385436722619,-16.808687692522042,56.36802966103299,24.916665168390818,64.36749957639478,-30.808559543711635,-34.19955049701677,-12.586384032163274,40.09328092849729,-0.4473636323554424,84.19557216855318,-6.2630830906642245,-20.15361052441058,11.78444490896895,25.497622903324867,-44.084101195189064,-8.057492699216914,-15.747746507710835,5.234322252481634,-0.3913812077796586,25.13061360235156,21.765409901352534,-15.789126811343845,-6.0939046741104805,-4.163131549808037,-4.567637695797108,-12.468247713763269,-2.7669434316221135,-19.75015600002914,-11.852835620846388,8.321150503563548,-27.643390677738907,0.2588808955938219,113.69482481444564,-39.171374098357475,-18.713777676329517,-25.897882694355935,-26.793641271568653,-28.531140637775025,-37.83106246659229,-3.454325175194189,29.16423975832141,20.566245018663977,-12.776087620216522,-4.528503445240124,16.595284718761505,-14.429723457883316,-59.865704280831565,136.70569762279274,-134.85101697647374,45.074238161746806,231.54549368774383,-10.092192162104864,-58.25783438656566,59.07565667556906,-23.794410163884645,-69.3588438434683,564.3020080408886,-21.14640971367561,-22.97036621638496,-12.418527265279838,-6.9226685643063535,12.173729681351903,122.9918996396743,-2.9105801529270336,-2.8912581149673264,10.973228673368583,40.98990707797539,-41.8759615118084,30.912740361481475,-39.48550205707246,111.51473776898804,-10.046327135916785,-11.421354409822005,1.661268251831581,-23.1194980455127,167.81913436779942,-7.616892491005534,65.29809922229312,38.78325513501555,-16.778485330364337,-16.745995543480934,-21.238938193315636,17.946165010002616,-58.11609973223142,-13.283302222686268,-22.927564544975485,-15.199616209794724,-54.87239481451347,-19.216955473306918,-22.72954236920971,-64.53093608162999,160.34408716332428,-9.008151652407866,9.099801662727094,-5.283741671970477,-29.17152465534303,-8.122972516279864,-38.25377623335831,-25.561427554157802,-8.335588959778551,17.79227864065202,-32.32812131235129,-112.88817786232391,72.76056215902696,-12.600879370984238,136.77026034630393,-28.476481650500475,7.908232876481265,-18.271255299485542,154.14893579319724,-43.36387777609592,-5.29810901604206,7.4271242004970555,-52.696950866774806,-16.648282714421033,-47.635290495980925,30.08068773936074,-23.56181458609957,-9.44728840900976,53.305917255426216,-10.056648349125568,4.582849077532124,25.42042880053603,0.4693686665994748,-18.930552115151347,-36.534200263592275,-24.784194109233198,2.099866213012569,-73.53720092844782,-18.243260517852796,-21.47739723247373,-17.588851093211428,-23.025929936370723,-44.8567810415607,-11.529925275102517,-29.408216839072953,130.8610061060177,-72.62566326518191,-23.575864823147256,-26.20957123548986,20.700910871388462,-3.963570307178375,-9.482144378843936,44.247569501783225,-92.03092791954431,38.26819038191622,-0.9963978817169091,-453.46968574654295,23.504897547304193,-14.560346558540271,-22.65228578372521,450.5270295328589,6.696475706702057,93.27464505270314,-3.676705544450567,-21.847962670547197,-33.01875245763251,-39.59690684129918,-29.161392353099302,423.34281865357076,-39.82798664180403,-24.668044576678625,23.350009773690374,80.87422692094161,-12.974583254075679,64.497488554321,-9.801468140943264,-16.4336633107731,-33.130366266099365,-12.308770917502608,-16.338060958534793,-38.44236140648917,126.92259659722545,-18.367328927857823,-3.19622731995233,319.1959977243923,8.247249373785625,-13.604512235214651,-33.05491814445721,24.866708408285124,-11.745658998816818,-20.485809853923968,71.82833101639962,19.014579998847477,38.479162164263585,-37.25457456737391,-3.281798359417341,34.02587599915019,166.77824123397878,-13.623232854184732,116.41105608187969,39.734546097107824,36.30295102965155,14.3278413124693,179.89231708171346,60.90256264756812,-20.409363436020392,0.13229350706800935,67.88727345746271,50.249031979367416,-18.764606926049215,7.510229481067073,-3.712918397060906,26.096818162960965,-64.82267696381595,-15.431129556118174,-22.56119799600942,-9.563085938567744,-8.00211225230178,4.052461874622525,120.4716011166515,-14.587604519291316,7.410287492507634,-20.270530998823762,0.602941864615298,-17.187902110054395,-19.331291237745152,-27.931240136562177,-67.00537589790311,-8.612996490026434,-79.59257930085633,20.499011380172718,94.09939614876025,1.3326244108652021,76.33637667351259,94.69382533363255,16.555628305002372,-2.9729176648755438,83.80752027773582,-31.19577481082234,-23.76687895709473,11.516168640059616,-37.64327301355307,-34.16838886334295,-63.13740593042678,41.78640134385333,19.91873991949282,453.03725398167325,71.92735946659464,-44.913957117978946,135.7734123938032,126.31856910038692,200.57652512375353,32.766859946713176,-56.868097285397496,-27.254199650451614,-4.039112179197318,-22.77226237101008,-13.758559103121437,-15.249422549406793,-20.4453944586151,-8.653035870954879,25.864829845964522,-17.139216431121618,-46.359713673392584,-15.726520865446364,95.85507836278681,-10.424832931172551,-28.201207134116675,-18.149747928238533,-45.83243094974983,59.38851415474405,-60.81546289806302,-44.299541318401275,-5.470136101640989,3.4940957121758562,-8.916155511466686,38.278478591723236,-30.947367368561075,-9.128022942253125,-6.309194813648249,-53.98842127851849,-75.76256946333986,-25.55295279503239,-13.023426281097688,-13.521591726323399,-38.16864496789711,-0.8550339759286881,-38.15000652782494,-7.748685045773392,-31.939083513826564,-2.0884598840484667,223.2517342939331,122.03766356287021,7.011189175894426,-17.352363398388906,-37.97134903021035,-4.124798322260007,136.79287758251323,-112.44523786381441,-21.198517077699638,6.80377153347838,-15.787192150968492,-41.34593846984001,-13.360772636379178,85.59366404865828,-6.110239192638157,77.86275655836849,-92.00648196583809,-189.38931263201198,-8.399249146017612,26.86456023543981,-11.737688653992004,65.26916396882802,-6.845412199828517,38.17134243921979,-150.1629228290373,-9.751544496130741,171.80155276762733,-13.809381152979105,-23.94104619973741,-39.611673674118606,-35.8763745268598,-12.055661421352223,807.2923168444472,-7.3326877974268525,-74.50813033266535,52.19158383360705,-30.319103319485468,-27.634422283153306,-31.317571423689323,-17.64542337243598,-13.223294794427922,29.69189703408871,-32.20416178570982,-23.039758962804274,-47.26428467889433,-23.756030786581675,-76.13756042174394,53.149231519435176,-34.48033624907987,-19.197716254122223,-26.251603387261913,230.13057737812227,-16.649214358857922,-11.765546063565596,-28.538942402556483,166.7474210703762,10.207310659709128,-19.897692019629602,-20.860727904492332,-41.48053437369682,33.57581844980128,-73.88386844608269,272.4542699863005,-21.47752959666508,44.12225481543828,-32.859012384211844,-5.700723809370624,0.0,-20.95888427238737,85.59416904002461,605.1816158218704,-32.235347786620714,-17.37860127430646,-23.61734576419245,16.710011233477413,-22.801101097184276,-87.27968820471176,297.18114645003357,-41.844689755016915,-9.995818040781952,-46.32684120781228,7.3155086280692165,15.48698784432926,-10.782864547080036,-59.945108535721126,-3.8556461693992117,60.383879590472795,79.41654334254346,-72.00648334713021,88.98356236985518,15.899245687249767,607.2866900453921,-75.90350167367103,6.846766580985386,-17.011899971463546,-16.451038868494837,-13.042733758777374,-19.149743982615306,-4.296843470513268,2.9931498547574136,-8.505770903531976,-16.41410181201982,-2.0259695506234237,-20.08662115426441,-23.637145250200973,-51.950661224533526,-7.2413113666294775,-9.421603197460529,-16.627917277083448,-29.818391765479742,-10.134854990224378,-11.35723761476397,-33.734074040104645,15.696111275026318,-23.187204248821978,-16.887366473705782,-6.8542587836795725,-12.584277725693852,-11.257509594883299,38.810675889803086,-21.44033206049645,-49.606164699472714,-31.159437751719192,-103.12367559198988,-12.48896189629592,194.2677175076784,202.7644908410806,-55.39744795405109,-88.61276854209427,4.42692801677517,21.03335968384525,17.355491879905863,-2.097220185481894,-43.99918833625373,-10.34648864017354,-13.123889111415869,-9.7104516759417,-38.4754557076688,-6.950069229500015,-13.359236491390327,-75.22652374983069,-35.558047235801844,61.09201499340043,-69.32984373012982,-23.235131178923915,-41.01595386636815,76.65098783528003,-43.23932061639774,-8.955611639780777,-41.053865442818434,-45.63346825661943,21.965218228311503,-82.93727476754484,-63.80700954461048,-32.48518108284502,-97.42716969950924,-41.796903276228484,-98.67966027603114,55.79596471483872,-16.44861368243791,12.181736608473804,-42.6775541553914,-22.60982975763599,56.58046130544935,-18.870380894567884,-20.153701008102555,-10.806636291759546,35.21108669029778,-62.11888613371465,-20.654511838902504,-13.723560307553885,9.264089857476291,31.053711960030284,-10.623602362652166,-21.914937987262054,-51.016301388247676,-23.186428144100397,20.764278129230032,15.705760623413289,-21.1339768281115,165.80124167595363,195.15309200715186,0.17069138439340312,-11.766014997661783,-51.17612853729195,-2.106071057660534,-12.669395219987344,85.50438789866686,-8.70586234130323,12.220377361785877,269.7633082784015,54.36877570029515,19.212158680247747,-35.3200620433645,-40.78627983513631,16.434946941335387,-21.584901061143857,-4.045825738711305,-53.07208545735817,-47.83468627161499,36.07286396705155,-1.6816049300502842,-11.163736687484738,-9.364198849722458,-62.20981067895535,-15.298987763126751,-36.98999409688852,-58.114437779418274,-62.05389033123377,35.75625030776687,-22.98941574556428,1.9304226297078717,-15.989515498948117,-26.4858148824417,-20.376366645303754,-6.357876694936649,-7.850370827722444,-33.09766059217822,-15.161989124514347,289.8771742557589,-11.406976391578315,-16.371806287202702,103.14754590210187,-36.77803401301817,-19.592837608158103,-5.9804371518266635,2.797399172336554,0.0,-17.050150989120336,-31.322009417872817,-49.04444864886939,60.02829547280798,-35.62248808132543,-6.042231661962422,5.077668426693358,22.83425899404572,1.2979725046783723,-26.303749607759386,-80.98808048280846,1.8584736749815376,-68.45057748627343,-73.50358154246906,77.02022585360235,-18.208348031008338,17.293905424367956,0.0,11.757078964434779,3.810547643173124,0.0,3.756106637483675,625.3374955621848,-45.735033487609456,33.11714502035905,-19.160343667699,14.542123059345398,-6.009503739758479,-29.4843367956727,-17.04508983178869,-40.85309461873491,23.203034406614506,-10.577513729333438,-68.03112376981443,0.7890124893153685,-42.531825266070776,6.56548590507083,19.996872833799944,-8.106947458775341,53.34671361598686,-23.91033422648589,-105.30701611749504,-1.6723488118012049,35.01969242743847,-109.29428210406988,41.31439388478893,21.384503251558318,-40.74713836530615,-5.940882069144191,-73.2534716332338,74.72548565263013,0.0,-77.95608992074793,-24.860680447597257,2.5160284944887503,-91.48746565006735,321.4615694973939,0.0,15.553525952993096,-12.92208852128434,-30.63255606079343,60.946443529760195,-7.057048770530877,-10.297647230492966,-22.234048055049854,76.89021303562868,-52.50147358309278,-5.331172945069375,-25.526840009836793,-51.53108127620177,-56.14243726732726,57.94098535340239,-8.123140290108983,-46.2268447861365,48.660169308692765,-9.41955315982422,482.2518240395054,-22.164682393877342,-11.891983946158595,0.0,-9.831675358666176,3.3702525961206575,4.469598171232306,-11.90777064120173,-25.96382362255781,85.76259193551722,-10.150553052482952,146.47918555730712,0.0,-56.697410402552244,-5.193770528576214,-28.396217333423337,-2.23961338006685,-32.527354931128485,66.14623199361178,123.25621514385676,-13.319661058309492,-0.9995067259119521,-25.03553638914423,84.77046328280495,0.0,-125.47298564786398,-10.260083312793169,-5.145643270153758,-89.67427559378551,-48.98557716343595,-42.881805581794026,-8.939756106402037,-12.422468514780272,-41.18192755251848,-5.128779145484018,-24.431357965861512,280.14844780681733,-29.225114632012055,-32.88077349482983,-20.503778894619725,-56.69156854984941,-32.50966007357112,-0.7943458072239511,-7.17907519605969,37.2689905288216,-22.370617153028086,-13.37374923092333,704.7352888252594,184.5503250399925,-26.022083474517874,14.516115445874439,-33.06542987227236,2.7115435894358906,-2.9799926907105214,-3.2437588847280026,12.077854023505454,3.72370241918397,-6.1695883688896185,-62.210078005306755,-62.088512163971004,-155.8797202451551,-14.83523727915419,133.002137462021,-19.04948698417517,-34.994020513599715,-0.5652341776475167,-109.79691013590724,-10.492447270524368,-29.135635271537996,-15.615549707815278,76.64848065424772,76.00822130096678,120.90244046387147,0.0,-14.60763064905565,0.0,0.22008252337354056,0.18439750878515004,-15.916588434271679,-63.33063825888238,-10.039880615797093,17.50125901913364,-22.065763792653982,-17.44627148471865,0.0,92.31815406974744,384.01429192678063,-73.09679807367961,-97.88981107992277,0.0,0.0,-298.7935725633023,0.0,308.46888908845665,62.74696452133994,-29.94712807806229,1.4559816703671153,-18.856734080451464,0.0,0.0,241.36208237991943,0.0,-36.69817731404931,363.31440837713103,0.0,13.884287428999542,-148.46799954762912,0.0,0.0,159.75067800209752,-18.438326571070355,-38.92502302950027,0.3673310378416554,2.3585490421861666,-0.56206672870228,-2.3485135095815246,-5.700641170227568,0.0,0.0,-12.609427117768652,-6.951082560955517,-33.88769001286265,-5.675662177411688,-39.1603422864069,-119.45847762261192,-7.601470876867569,13.758485301149195,0.0,-29.551329252624406,58.26688936307264,42.829561222003875,-31.322924365928706,-29.239750242189785,-27.312672243589752,-96.03625065060332,-11.42275566931954,0.0,0.0,108.49253414943803,3.9023253598795757,0.0,-0.4325602292042123,43.9708977561585,18.591773016595994,24.313585267847856,-35.18262997063481,5.7758710123400325,5.278586341813679,0.0,0.0,-64.9660097818128,22.04874509433169,0.0,-24.310926800130744,-93.78017787180119,0.0,0.0,0.0,168.5672073934102,-55.16034118137319,-16.40777777742114,-92.00648196583809,-29.20618873491993,0.0,0.0,-57.25302719090736,2.8850278494408834,10.74732479955983,0.0,-17.82970329289219,1.0992286676073724,-10.009699743625493,0.0,556.347305940145,8.473351183818846,0.0,7.789394507654879,-208.24799879301077,-24.358755232899064,-61.77318678946684,187.5560550699129,0.0,66.24385801199624,85.27236849498898,-18.870512516297776,-12.855728617932858,-8.654420234330132,-109.0227699545379,-64.74700341779152,-36.601988123693964,0.0,16.54433129933205,0.0,-5.81046064268615,0.0,-10.69543913306174,19.481425177055044,0.0,-9.115296540845597,87.9541964136458,0.0,-27.087886431696823,-25.710445794429607,0.0,0.0,1.20168025120461,54.82771737545951,-5.257876290303926,0.0,-3.7579995847720173,-80.78762967385411,-28.33420532399182,0.0,-23.03429930835568,0.0,-11.336003833304773,0.0,-52.843466357393076,-31.462460345298148,-214.37551703789507,-39.229617266659766,-7.596820454646563,-4.685805366912869,0.0,0.0,-97.89662637681121,0.0,-100.75949298908841,0.0,0.0,-9.493972357501322,-28.122977304633977,19.194306022436397,95.01968828356208,14.114798651915876,-121.45185875642595,-47.74165646063185,0.0,-13.079292839304784,112.83107988756724,-37.351047190563506,-18.947139153785983,57.687321885918706,-37.27482132476739,0.0,0.0,0.0,5.097535887374088,0.0,-247.12130254011387,-19.48405775693951,-14.868452958942544,0.0,-19.764542340583546,185.99133853254995,-2.2185050593647313,89.07918587144297,-8.126107484851456,-15.545630009124546,0.0,0.0,0.0,167.0458664753921,0.0,98.24599203227595,105.7946271284684,-26.6884800951499,91.56212111221285,31.643101262409967,371.80811369285794,99.66274899801385,145.01968483033176,0.0,-30.092318713196647,-29.294562290988637,11.071388720718112,-24.886996294716926,2.2837540474702394,0.0,-6.942427764488363,0.0,2.880607183258398,-60.160786383410326,164.853982985366,216.3044110616171,48.57194434279173,198.03186523229877,-82.86725510228034,0.0,-115.98873003944992,-30.821643169506384,32.5260281126273,10.942011037325347,26.759308431325437,-6.102875641317187,18.563148587888428,0.0,-12.956094409947282,-50.79690265464701,-17.150743930737594,-91.66470109394518,-14.859296805721709,0.0,0.0,-0.16322312261418784,-31.523025479814528,-26.25324300917398,-4.338856996557215,0.0,32.147418049585966,0.0,-48.98557716343595,-36.7264956576075,-11.797225622813905,-15.981018450138876,0.0,0.0,-14.355886699099852,0.0,-25.589292439432427,-101.16979768926707,0.0,-75.93356681614662,0.0,8.185155519474023,74.75961290185924,-92.82894069242523,-146.307689848504,0.0,0.0,135.63856915984783,0.0,-94.78339549362877,25.918874042368703,-72.77071797074417,5.057571406736367,0.0,0.0,-17.622789220425155,0.0,-86.26504768011911,12.9830019848622,3.580022810025364,-5.551545577750392,-53.26719937010456,-53.49011805110466,-6.913642536119984,-50.742809593950746,0.0,54.99852785709821,0.0,-128.25346783468044,0.0,60.72078149498767,35.01969242743847,274.6030490212573,0.0,0.0,0.0,-18.239709691769086,-21.525552799458055,0.0,-8.818563486452206,0.0,-113.74620277246923,-9.744994940777374,6.19815895719443,-2.713278478386615,-97.33779321230908,88.73740499955011,37.86767366579837,-66.13886947525395,-89.92671373193771,0.0,-70.78238939362426,38.24054068895741,0.0,-63.30518539565897,0.0,-11.349897844542324,0.0,0.0,-3.6498956598099928,12.566582392598571,0.0,-10.858696182340227,-98.91379533472244,-24.188329482290698,0.0,-64.9164754118983,11.088466374903192,-9.757509696614523,-81.10392723080308,-65.60587617051554,-12.006487491006524,-6.011914523339403,-10.4058490391213,60.096319770924545,87.56451249000204,0.0,-0.3269029811474635,17.945048476875428,-15.851290903341134,-3.1193924023539603,8.156701175445448,232.72215814390051,240.16410904160958,10.89265650251084,-23.77318941392188,-48.98557716343595,0.0,-128.91379326278428,0.0,1.005205354031795,-51.01887258370925,-36.77803402411905,222.1142973238143,-96.32291987672929,10.967327756026004,0.0,-10.159047982182884,0.0,431.9367588326945,0.0,0.0,-660.3692919617912,141.84175158196075,0.0,41.22520163658639,0.0,7.448668191985146,0.0,0.0,0.0,-16.457874799651808,53.876384278166995,29.07426805285581,-37.327726820096245,-7.234216350031874,0.0,0.0,-10.51572296422453,-202.68000930680628,-105.21602774715369,-18.80306114267885,-54.27921056258269,-15.138908246268796,-53.2534730145259,7.757292364366136,0.0,0.0,60.72078149498767,0.0,-8.603697031944153,-4.9590110799425915,-6.993634088756187,-92.00648196583809,0.0,53.929056015324925,-10.923556169777319,-33.897225711113784,10.061474879866973,19.77561871461142,-12.444574983798308,-78.31706066472057,-14.478651536816868,0.0,-22.624899029288226,28.675085157114985,-54.16394842872361,-127.2293911083249,23.194152218178928,-81.44539612417562,-23.333512186762125,10.074518305944201,58.415989878734614,0.0,0.0,0.0,0.0,13.863137275144997,-18.241606137898284,0.0,0.0,-94.24128566765016,-6.548270247619362,-5.98298489883315,-63.89722363917563,0.0,0.0,0.0,0.0,-11.343568731177909,-6.965758249169678,-67.34826456434618,-15.762710974069684,-30.789652846751395,0.0,-4.0097001580131275,-122.31051798608874,241.8249130818659,0.0,0.0,0.0,18.589965410172283,0.0,2.1198066369348494,0.0,221.5613053004864,0.0,-456.97773071298394,2.8507691145276013,-5.628271470422457,-46.455122059012574,-76.00499789637186,0.0,13.87370786659177,12.794572650638509,7.903418311762762,166.903365915187,-94.49173851391018,-14.828774638718334,-8.345151640283195,-31.308860231701,0.0,-26.878522568886467,-50.11904276045616,-3.0631501495129223,0.0,-75.3564027500413,0.0,75.50666056550202,40.74943409977318,-34.64144789936874,0.0,-47.50456931267975,60.248814582227446,0.0,-62.00648403777626,-57.5738288032698,0.0,-24.193561496277795,-7.388458531528925,-12.627085886936355,44.50567611789441,0.09400110942533099,17.964957951313217,23.133820824086527,-20.046583380502582,28.668872528592264,15.168660851798753,8.487930900877796,0.05805701831003046,-51.70596221873922,123.1226907287456,-9.83060972664097,14.656693645019706,180.69125099834133,22.386985439400988,-176.77001396388616,0.0,31.92091737444636,-22.065763792653982,-17.44627148471865,61.860043081519656,-97.88981107992277,-73.09679807367961,-298.7935725633023,-100.32539962927545,0.0551544723089265,15.341759665923734,2.973841700192923]\n",
       "removedWidgets": [],
       "addedWidgets": {},
       "metadata": {},
       "type": "ansi",
       "arguments": {}
      }
     },
     "data": {
      "text/plain": "[-13.145347392161165,-14.723308138784237,41.70604960995152,-4.539807486308372,-3.2715690421337476,-6.321260209849993,-5.789912345108837,6.3325244127959115,-6.152369232503143,-6.744298227219199,-13.63826787311768,16.938822406974136,-10.296023373765907,3.6904718781280907,6.949128726354645,2.5847454893988666,-4.591308133013084,8.470606731438112,-12.966490971265605,182.9304070872814,-25.295859081077843,57.45908093354914,-0.9241247923546961,11.015409553415815,-6.299204273265504,1.2893897609837746,-18.5107210944927,-5.277137403554312,37.10852062998193,-1.8565601515099828,6.523989190789846,-3.320564915198755,3.9336566367881347,1.6610153584197698,-2.3949100495323252,-12.920849560737746,27.509184360789167,12.076762563392911,11.937052999214693,1.797591194244539,135.12055453371366,-0.8084076298821646,21.85257275328394,-15.695854718977694,-9.336185389291023,-22.144832103468207,-0.20844453027386417,25.235332582501588,27.955188810913267,-8.905009801178258,34.698307802666335,13.55154739469145,0.0,16.834917723436785,20.093968992069755,42.97009595715638,-36.9534125270139,2.074616396410577,-51.64808880573037,-25.727262432532388,68.01759635733175,6.953481816876069,4.279750470205016,1.0452284532429343,-17.66249737012086,6.346017918109351,0.0,-22.060139623091242,0.0,-4.405282629030349,-15.429899597148404,0.0,6.409635866631665,-39.573266797536824,-1.1098814636137895,-97.58624762119868,-60.77624727430492,-22.100439179979748,11.245405282695973,-24.660076224287668,1.1186301094564968,-36.63000794803294,-1.1509657567914733,3.0758498911342316,-12.058280587905784,-21.499969991475083,-7.308480526175951,-15.033405383716438,-15.81008403629136,28.9426887758801,-20.87194253780301,-8.790726799903918,5.399811889735659,3.095154886231338,-16.339313987762306,-9.543635868413737,-16.09353960467741,152.50464517500953,-44.49731772652564,-5.087575672801562,-12.80373127421972,-13.884076562534291,-27.679604015107607,-25.97195306736788,-8.769882647300298,-35.590996473601706,6.28867526778355,4.217748488385911,7.492170456687418,-29.618625505738155,-20.861708866575313,84.4520815923942,-19.09477306911816,-24.470900401507013,-12.803223494636725,6.510347961956326,-15.408941704392602,12.937191832835914,6.713435621348483,-24.658579966944096,-40.794170531289474,9.418136998787901,-21.59400787284638,-15.89084735939076,-17.706691844105666,-8.276930753910783,189.07035984283198,-8.563488722055093,-14.875455113282392,-13.923156181847764,3.207987909654088,2.63824878488112,1.151066867276015,-10.683975689730289,-30.02023936967576,28.313943612956326,-1.210897564380715,-1.5112913103083205,-14.76810126817339,11.067766186338167,-9.937753188736712,-0.08198753659754175,-0.8915784725481893,-5.608151718319853,1.938622111033746,-4.430076049457053,-5.728043720688302,-24.559372871009632,-15.77129511243437,19.23020543152885,-38.58067313202326,116.37855538930773,-36.10430773019355,16.439608724714105,-36.000803319152276,-41.860396241316245,-26.616463882474243,-2.6992919709924146,-17.828843245605896,-20.629334700235738,3.3396671273479677,-4.237075503914888,-79.90783349199647,-17.74260758134918,23.021394531714204,-16.67830725290186,21.16043284026007,-2.980068633394692,8.00358987061367,11.058939269818529,-22.703985277103687,-27.81056257025523,-0.3545766336926872,-22.45931137372693,90.97928517193535,13.404828198952771,76.06925316124928,-11.422021144284342,-25.58657823646603,-12.780240258785108,-7.60546658214391,21.911336385242,16.4340389585914,36.211410284826655,-28.29973239248091,-27.971301499435484,-41.442191792068506,-37.911730572701515,25.339895418436186,-14.372711222424705,-26.40385980935088,0.15820999945311698,-27.282042306440953,-36.97946054567054,24.75814516698683,7.28668876705679,-24.481437529664372,-34.682843217503354,-0.7841312824484478,-33.36376409177491,-39.230898989359105,1.88373751477231,-29.44518582254283,7.085356206101932,-4.409522424682068,-21.465289378172464,-17.33517937936778,18.285797680745294,3.9014264268602474,-12.691544783372805,5.36144411040621,-0.3743570791964792,-9.875385436722619,-16.808687692522042,56.36802966103299,24.916665168390818,64.36749957639478,-30.808559543711635,-34.19955049701677,-12.586384032163274,40.09328092849729,-0.4473636323554424,84.19557216855318,-6.2630830906642245,-20.15361052441058,11.78444490896895,25.497622903324867,-44.084101195189064,-8.057492699216914,-15.747746507710835,5.234322252481634,-0.3913812077796586,25.13061360235156,21.765409901352534,-15.789126811343845,-6.0939046741104805,-4.163131549808037,-4.567637695797108,-12.468247713763269,-2.7669434316221135,-19.75015600002914,-11.852835620846388,8.321150503563548,-27.643390677738907,0.2588808955938219,113.69482481444564,-39.171374098357475,-18.713777676329517,-25.897882694355935,-26.793641271568653,-28.531140637775025,-37.83106246659229,-3.454325175194189,29.16423975832141,20.566245018663977,-12.776087620216522,-4.528503445240124,16.595284718761505,-14.429723457883316,-59.865704280831565,136.70569762279274,-134.85101697647374,45.074238161746806,231.54549368774383,-10.092192162104864,-58.25783438656566,59.07565667556906,-23.794410163884645,-69.3588438434683,564.3020080408886,-21.14640971367561,-22.97036621638496,-12.418527265279838,-6.9226685643063535,12.173729681351903,122.9918996396743,-2.9105801529270336,-2.8912581149673264,10.973228673368583,40.98990707797539,-41.8759615118084,30.912740361481475,-39.48550205707246,111.51473776898804,-10.046327135916785,-11.421354409822005,1.661268251831581,-23.1194980455127,167.81913436779942,-7.616892491005534,65.29809922229312,38.78325513501555,-16.778485330364337,-16.745995543480934,-21.238938193315636,17.946165010002616,-58.11609973223142,-13.283302222686268,-22.927564544975485,-15.199616209794724,-54.87239481451347,-19.216955473306918,-22.72954236920971,-64.53093608162999,160.34408716332428,-9.008151652407866,9.099801662727094,-5.283741671970477,-29.17152465534303,-8.122972516279864,-38.25377623335831,-25.561427554157802,-8.335588959778551,17.79227864065202,-32.32812131235129,-112.88817786232391,72.76056215902696,-12.600879370984238,136.77026034630393,-28.476481650500475,7.908232876481265,-18.271255299485542,154.14893579319724,-43.36387777609592,-5.29810901604206,7.4271242004970555,-52.696950866774806,-16.648282714421033,-47.635290495980925,30.08068773936074,-23.56181458609957,-9.44728840900976,53.305917255426216,-10.056648349125568,4.582849077532124,25.42042880053603,0.4693686665994748,-18.930552115151347,-36.534200263592275,-24.784194109233198,2.099866213012569,-73.53720092844782,-18.243260517852796,-21.47739723247373,-17.588851093211428,-23.025929936370723,-44.8567810415607,-11.529925275102517,-29.408216839072953,130.8610061060177,-72.62566326518191,-23.575864823147256,-26.20957123548986,20.700910871388462,-3.963570307178375,-9.482144378843936,44.247569501783225,-92.03092791954431,38.26819038191622,-0.9963978817169091,-453.46968574654295,23.504897547304193,-14.560346558540271,-22.65228578372521,450.5270295328589,6.696475706702057,93.27464505270314,-3.676705544450567,-21.847962670547197,-33.01875245763251,-39.59690684129918,-29.161392353099302,423.34281865357076,-39.82798664180403,-24.668044576678625,23.350009773690374,80.87422692094161,-12.974583254075679,64.497488554321,-9.801468140943264,-16.4336633107731,-33.130366266099365,-12.308770917502608,-16.338060958534793,-38.44236140648917,126.92259659722545,-18.367328927857823,-3.19622731995233,319.1959977243923,8.247249373785625,-13.604512235214651,-33.05491814445721,24.866708408285124,-11.745658998816818,-20.485809853923968,71.82833101639962,19.014579998847477,38.479162164263585,-37.25457456737391,-3.281798359417341,34.02587599915019,166.77824123397878,-13.623232854184732,116.41105608187969,39.734546097107824,36.30295102965155,14.3278413124693,179.89231708171346,60.90256264756812,-20.409363436020392,0.13229350706800935,67.88727345746271,50.249031979367416,-18.764606926049215,7.510229481067073,-3.712918397060906,26.096818162960965,-64.82267696381595,-15.431129556118174,-22.56119799600942,-9.563085938567744,-8.00211225230178,4.052461874622525,120.4716011166515,-14.587604519291316,7.410287492507634,-20.270530998823762,0.602941864615298,-17.187902110054395,-19.331291237745152,-27.931240136562177,-67.00537589790311,-8.612996490026434,-79.59257930085633,20.499011380172718,94.09939614876025,1.3326244108652021,76.33637667351259,94.69382533363255,16.555628305002372,-2.9729176648755438,83.80752027773582,-31.19577481082234,-23.76687895709473,11.516168640059616,-37.64327301355307,-34.16838886334295,-63.13740593042678,41.78640134385333,19.91873991949282,453.03725398167325,71.92735946659464,-44.913957117978946,135.7734123938032,126.31856910038692,200.57652512375353,32.766859946713176,-56.868097285397496,-27.254199650451614,-4.039112179197318,-22.77226237101008,-13.758559103121437,-15.249422549406793,-20.4453944586151,-8.653035870954879,25.864829845964522,-17.139216431121618,-46.359713673392584,-15.726520865446364,95.85507836278681,-10.424832931172551,-28.201207134116675,-18.149747928238533,-45.83243094974983,59.38851415474405,-60.81546289806302,-44.299541318401275,-5.470136101640989,3.4940957121758562,-8.916155511466686,38.278478591723236,-30.947367368561075,-9.128022942253125,-6.309194813648249,-53.98842127851849,-75.76256946333986,-25.55295279503239,-13.023426281097688,-13.521591726323399,-38.16864496789711,-0.8550339759286881,-38.15000652782494,-7.748685045773392,-31.939083513826564,-2.0884598840484667,223.2517342939331,122.03766356287021,7.011189175894426,-17.352363398388906,-37.97134903021035,-4.124798322260007,136.79287758251323,-112.44523786381441,-21.198517077699638,6.80377153347838,-15.787192150968492,-41.34593846984001,-13.360772636379178,85.59366404865828,-6.110239192638157,77.86275655836849,-92.00648196583809,-189.38931263201198,-8.399249146017612,26.86456023543981,-11.737688653992004,65.26916396882802,-6.845412199828517,38.17134243921979,-150.1629228290373,-9.751544496130741,171.80155276762733,-13.809381152979105,-23.94104619973741,-39.611673674118606,-35.8763745268598,-12.055661421352223,807.2923168444472,-7.3326877974268525,-74.50813033266535,52.19158383360705,-30.319103319485468,-27.634422283153306,-31.317571423689323,-17.64542337243598,-13.223294794427922,29.69189703408871,-32.20416178570982,-23.039758962804274,-47.26428467889433,-23.756030786581675,-76.13756042174394,53.149231519435176,-34.48033624907987,-19.197716254122223,-26.251603387261913,230.13057737812227,-16.649214358857922,-11.765546063565596,-28.538942402556483,166.7474210703762,10.207310659709128,-19.897692019629602,-20.860727904492332,-41.48053437369682,33.57581844980128,-73.88386844608269,272.4542699863005,-21.47752959666508,44.12225481543828,-32.859012384211844,-5.700723809370624,0.0,-20.95888427238737,85.59416904002461,605.1816158218704,-32.235347786620714,-17.37860127430646,-23.61734576419245,16.710011233477413,-22.801101097184276,-87.27968820471176,297.18114645003357,-41.844689755016915,-9.995818040781952,-46.32684120781228,7.3155086280692165,15.48698784432926,-10.782864547080036,-59.945108535721126,-3.8556461693992117,60.383879590472795,79.41654334254346,-72.00648334713021,88.98356236985518,15.899245687249767,607.2866900453921,-75.90350167367103,6.846766580985386,-17.011899971463546,-16.451038868494837,-13.042733758777374,-19.149743982615306,-4.296843470513268,2.9931498547574136,-8.505770903531976,-16.41410181201982,-2.0259695506234237,-20.08662115426441,-23.637145250200973,-51.950661224533526,-7.2413113666294775,-9.421603197460529,-16.627917277083448,-29.818391765479742,-10.134854990224378,-11.35723761476397,-33.734074040104645,15.696111275026318,-23.187204248821978,-16.887366473705782,-6.8542587836795725,-12.584277725693852,-11.257509594883299,38.810675889803086,-21.44033206049645,-49.606164699472714,-31.159437751719192,-103.12367559198988,-12.48896189629592,194.2677175076784,202.7644908410806,-55.39744795405109,-88.61276854209427,4.42692801677517,21.03335968384525,17.355491879905863,-2.097220185481894,-43.99918833625373,-10.34648864017354,-13.123889111415869,-9.7104516759417,-38.4754557076688,-6.950069229500015,-13.359236491390327,-75.22652374983069,-35.558047235801844,61.09201499340043,-69.32984373012982,-23.235131178923915,-41.01595386636815,76.65098783528003,-43.23932061639774,-8.955611639780777,-41.053865442818434,-45.63346825661943,21.965218228311503,-82.93727476754484,-63.80700954461048,-32.48518108284502,-97.42716969950924,-41.796903276228484,-98.67966027603114,55.79596471483872,-16.44861368243791,12.181736608473804,-42.6775541553914,-22.60982975763599,56.58046130544935,-18.870380894567884,-20.153701008102555,-10.806636291759546,35.21108669029778,-62.11888613371465,-20.654511838902504,-13.723560307553885,9.264089857476291,31.053711960030284,-10.623602362652166,-21.914937987262054,-51.016301388247676,-23.186428144100397,20.764278129230032,15.705760623413289,-21.1339768281115,165.80124167595363,195.15309200715186,0.17069138439340312,-11.766014997661783,-51.17612853729195,-2.106071057660534,-12.669395219987344,85.50438789866686,-8.70586234130323,12.220377361785877,269.7633082784015,54.36877570029515,19.212158680247747,-35.3200620433645,-40.78627983513631,16.434946941335387,-21.584901061143857,-4.045825738711305,-53.07208545735817,-47.83468627161499,36.07286396705155,-1.6816049300502842,-11.163736687484738,-9.364198849722458,-62.20981067895535,-15.298987763126751,-36.98999409688852,-58.114437779418274,-62.05389033123377,35.75625030776687,-22.98941574556428,1.9304226297078717,-15.989515498948117,-26.4858148824417,-20.376366645303754,-6.357876694936649,-7.850370827722444,-33.09766059217822,-15.161989124514347,289.8771742557589,-11.406976391578315,-16.371806287202702,103.14754590210187,-36.77803401301817,-19.592837608158103,-5.9804371518266635,2.797399172336554,0.0,-17.050150989120336,-31.322009417872817,-49.04444864886939,60.02829547280798,-35.62248808132543,-6.042231661962422,5.077668426693358,22.83425899404572,1.2979725046783723,-26.303749607759386,-80.98808048280846,1.8584736749815376,-68.45057748627343,-73.50358154246906,77.02022585360235,-18.208348031008338,17.293905424367956,0.0,11.757078964434779,3.810547643173124,0.0,3.756106637483675,625.3374955621848,-45.735033487609456,33.11714502035905,-19.160343667699,14.542123059345398,-6.009503739758479,-29.4843367956727,-17.04508983178869,-40.85309461873491,23.203034406614506,-10.577513729333438,-68.03112376981443,0.7890124893153685,-42.531825266070776,6.56548590507083,19.996872833799944,-8.106947458775341,53.34671361598686,-23.91033422648589,-105.30701611749504,-1.6723488118012049,35.01969242743847,-109.29428210406988,41.31439388478893,21.384503251558318,-40.74713836530615,-5.940882069144191,-73.2534716332338,74.72548565263013,0.0,-77.95608992074793,-24.860680447597257,2.5160284944887503,-91.48746565006735,321.4615694973939,0.0,15.553525952993096,-12.92208852128434,-30.63255606079343,60.946443529760195,-7.057048770530877,-10.297647230492966,-22.234048055049854,76.89021303562868,-52.50147358309278,-5.331172945069375,-25.526840009836793,-51.53108127620177,-56.14243726732726,57.94098535340239,-8.123140290108983,-46.2268447861365,48.660169308692765,-9.41955315982422,482.2518240395054,-22.164682393877342,-11.891983946158595,0.0,-9.831675358666176,3.3702525961206575,4.469598171232306,-11.90777064120173,-25.96382362255781,85.76259193551722,-10.150553052482952,146.47918555730712,0.0,-56.697410402552244,-5.193770528576214,-28.396217333423337,-2.23961338006685,-32.527354931128485,66.14623199361178,123.25621514385676,-13.319661058309492,-0.9995067259119521,-25.03553638914423,84.77046328280495,0.0,-125.47298564786398,-10.260083312793169,-5.145643270153758,-89.67427559378551,-48.98557716343595,-42.881805581794026,-8.939756106402037,-12.422468514780272,-41.18192755251848,-5.128779145484018,-24.431357965861512,280.14844780681733,-29.225114632012055,-32.88077349482983,-20.503778894619725,-56.69156854984941,-32.50966007357112,-0.7943458072239511,-7.17907519605969,37.2689905288216,-22.370617153028086,-13.37374923092333,704.7352888252594,184.5503250399925,-26.022083474517874,14.516115445874439,-33.06542987227236,2.7115435894358906,-2.9799926907105214,-3.2437588847280026,12.077854023505454,3.72370241918397,-6.1695883688896185,-62.210078005306755,-62.088512163971004,-155.8797202451551,-14.83523727915419,133.002137462021,-19.04948698417517,-34.994020513599715,-0.5652341776475167,-109.79691013590724,-10.492447270524368,-29.135635271537996,-15.615549707815278,76.64848065424772,76.00822130096678,120.90244046387147,0.0,-14.60763064905565,0.0,0.22008252337354056,0.18439750878515004,-15.916588434271679,-63.33063825888238,-10.039880615797093,17.50125901913364,-22.065763792653982,-17.44627148471865,0.0,92.31815406974744,384.01429192678063,-73.09679807367961,-97.88981107992277,0.0,0.0,-298.7935725633023,0.0,308.46888908845665,62.74696452133994,-29.94712807806229,1.4559816703671153,-18.856734080451464,0.0,0.0,241.36208237991943,0.0,-36.69817731404931,363.31440837713103,0.0,13.884287428999542,-148.46799954762912,0.0,0.0,159.75067800209752,-18.438326571070355,-38.92502302950027,0.3673310378416554,2.3585490421861666,-0.56206672870228,-2.3485135095815246,-5.700641170227568,0.0,0.0,-12.609427117768652,-6.951082560955517,-33.88769001286265,-5.675662177411688,-39.1603422864069,-119.45847762261192,-7.601470876867569,13.758485301149195,0.0,-29.551329252624406,58.26688936307264,42.829561222003875,-31.322924365928706,-29.239750242189785,-27.312672243589752,-96.03625065060332,-11.42275566931954,0.0,0.0,108.49253414943803,3.9023253598795757,0.0,-0.4325602292042123,43.9708977561585,18.591773016595994,24.313585267847856,-35.18262997063481,5.7758710123400325,5.278586341813679,0.0,0.0,-64.9660097818128,22.04874509433169,0.0,-24.310926800130744,-93.78017787180119,0.0,0.0,0.0,168.5672073934102,-55.16034118137319,-16.40777777742114,-92.00648196583809,-29.20618873491993,0.0,0.0,-57.25302719090736,2.8850278494408834,10.74732479955983,0.0,-17.82970329289219,1.0992286676073724,-10.009699743625493,0.0,556.347305940145,8.473351183818846,0.0,7.789394507654879,-208.24799879301077,-24.358755232899064,-61.77318678946684,187.5560550699129,0.0,66.24385801199624,85.27236849498898,-18.870512516297776,-12.855728617932858,-8.654420234330132,-109.0227699545379,-64.74700341779152,-36.601988123693964,0.0,16.54433129933205,0.0,-5.81046064268615,0.0,-10.69543913306174,19.481425177055044,0.0,-9.115296540845597,87.9541964136458,0.0,-27.087886431696823,-25.710445794429607,0.0,0.0,1.20168025120461,54.82771737545951,-5.257876290303926,0.0,-3.7579995847720173,-80.78762967385411,-28.33420532399182,0.0,-23.03429930835568,0.0,-11.336003833304773,0.0,-52.843466357393076,-31.462460345298148,-214.37551703789507,-39.229617266659766,-7.596820454646563,-4.685805366912869,0.0,0.0,-97.89662637681121,0.0,-100.75949298908841,0.0,0.0,-9.493972357501322,-28.122977304633977,19.194306022436397,95.01968828356208,14.114798651915876,-121.45185875642595,-47.74165646063185,0.0,-13.079292839304784,112.83107988756724,-37.351047190563506,-18.947139153785983,57.687321885918706,-37.27482132476739,0.0,0.0,0.0,5.097535887374088,0.0,-247.12130254011387,-19.48405775693951,-14.868452958942544,0.0,-19.764542340583546,185.99133853254995,-2.2185050593647313,89.07918587144297,-8.126107484851456,-15.545630009124546,0.0,0.0,0.0,167.0458664753921,0.0,98.24599203227595,105.7946271284684,-26.6884800951499,91.56212111221285,31.643101262409967,371.80811369285794,99.66274899801385,145.01968483033176,0.0,-30.092318713196647,-29.294562290988637,11.071388720718112,-24.886996294716926,2.2837540474702394,0.0,-6.942427764488363,0.0,2.880607183258398,-60.160786383410326,164.853982985366,216.3044110616171,48.57194434279173,198.03186523229877,-82.86725510228034,0.0,-115.98873003944992,-30.821643169506384,32.5260281126273,10.942011037325347,26.759308431325437,-6.102875641317187,18.563148587888428,0.0,-12.956094409947282,-50.79690265464701,-17.150743930737594,-91.66470109394518,-14.859296805721709,0.0,0.0,-0.16322312261418784,-31.523025479814528,-26.25324300917398,-4.338856996557215,0.0,32.147418049585966,0.0,-48.98557716343595,-36.7264956576075,-11.797225622813905,-15.981018450138876,0.0,0.0,-14.355886699099852,0.0,-25.589292439432427,-101.16979768926707,0.0,-75.93356681614662,0.0,8.185155519474023,74.75961290185924,-92.82894069242523,-146.307689848504,0.0,0.0,135.63856915984783,0.0,-94.78339549362877,25.918874042368703,-72.77071797074417,5.057571406736367,0.0,0.0,-17.622789220425155,0.0,-86.26504768011911,12.9830019848622,3.580022810025364,-5.551545577750392,-53.26719937010456,-53.49011805110466,-6.913642536119984,-50.742809593950746,0.0,54.99852785709821,0.0,-128.25346783468044,0.0,60.72078149498767,35.01969242743847,274.6030490212573,0.0,0.0,0.0,-18.239709691769086,-21.525552799458055,0.0,-8.818563486452206,0.0,-113.74620277246923,-9.744994940777374,6.19815895719443,-2.713278478386615,-97.33779321230908,88.73740499955011,37.86767366579837,-66.13886947525395,-89.92671373193771,0.0,-70.78238939362426,38.24054068895741,0.0,-63.30518539565897,0.0,-11.349897844542324,0.0,0.0,-3.6498956598099928,12.566582392598571,0.0,-10.858696182340227,-98.91379533472244,-24.188329482290698,0.0,-64.9164754118983,11.088466374903192,-9.757509696614523,-81.10392723080308,-65.60587617051554,-12.006487491006524,-6.011914523339403,-10.4058490391213,60.096319770924545,87.56451249000204,0.0,-0.3269029811474635,17.945048476875428,-15.851290903341134,-3.1193924023539603,8.156701175445448,232.72215814390051,240.16410904160958,10.89265650251084,-23.77318941392188,-48.98557716343595,0.0,-128.91379326278428,0.0,1.005205354031795,-51.01887258370925,-36.77803402411905,222.1142973238143,-96.32291987672929,10.967327756026004,0.0,-10.159047982182884,0.0,431.9367588326945,0.0,0.0,-660.3692919617912,141.84175158196075,0.0,41.22520163658639,0.0,7.448668191985146,0.0,0.0,0.0,-16.457874799651808,53.876384278166995,29.07426805285581,-37.327726820096245,-7.234216350031874,0.0,0.0,-10.51572296422453,-202.68000930680628,-105.21602774715369,-18.80306114267885,-54.27921056258269,-15.138908246268796,-53.2534730145259,7.757292364366136,0.0,0.0,60.72078149498767,0.0,-8.603697031944153,-4.9590110799425915,-6.993634088756187,-92.00648196583809,0.0,53.929056015324925,-10.923556169777319,-33.897225711113784,10.061474879866973,19.77561871461142,-12.444574983798308,-78.31706066472057,-14.478651536816868,0.0,-22.624899029288226,28.675085157114985,-54.16394842872361,-127.2293911083249,23.194152218178928,-81.44539612417562,-23.333512186762125,10.074518305944201,58.415989878734614,0.0,0.0,0.0,0.0,13.863137275144997,-18.241606137898284,0.0,0.0,-94.24128566765016,-6.548270247619362,-5.98298489883315,-63.89722363917563,0.0,0.0,0.0,0.0,-11.343568731177909,-6.965758249169678,-67.34826456434618,-15.762710974069684,-30.789652846751395,0.0,-4.0097001580131275,-122.31051798608874,241.8249130818659,0.0,0.0,0.0,18.589965410172283,0.0,2.1198066369348494,0.0,221.5613053004864,0.0,-456.97773071298394,2.8507691145276013,-5.628271470422457,-46.455122059012574,-76.00499789637186,0.0,13.87370786659177,12.794572650638509,7.903418311762762,166.903365915187,-94.49173851391018,-14.828774638718334,-8.345151640283195,-31.308860231701,0.0,-26.878522568886467,-50.11904276045616,-3.0631501495129223,0.0,-75.3564027500413,0.0,75.50666056550202,40.74943409977318,-34.64144789936874,0.0,-47.50456931267975,60.248814582227446,0.0,-62.00648403777626,-57.5738288032698,0.0,-24.193561496277795,-7.388458531528925,-12.627085886936355,44.50567611789441,0.09400110942533099,17.964957951313217,23.133820824086527,-20.046583380502582,28.668872528592264,15.168660851798753,8.487930900877796,0.05805701831003046,-51.70596221873922,123.1226907287456,-9.83060972664097,14.656693645019706,180.69125099834133,22.386985439400988,-176.77001396388616,0.0,31.92091737444636,-22.065763792653982,-17.44627148471865,61.860043081519656,-97.88981107992277,-73.09679807367961,-298.7935725633023,-100.32539962927545,0.0551544723089265,15.341759665923734,2.973841700192923]\n"
     }
    }
   ]
  },
  {
   "cell_type": "code",
   "metadata": {
    "application/vnd.databricks.v1+cell": {
     "title": "",
     "showTitle": false,
     "inputWidgets": {},
     "nuid": "eae78959-de99-46a1-b3be-4ffbd96326da"
    },
    "cell_id": "00026-dbf7877f-78d7-4d7e-869d-a5db6d4078e0",
    "deepnote_cell_type": "code"
   },
   "source": "print(lr_model.intercept)",
   "execution_count": 0,
   "outputs": [
    {
     "output_type": "display_data",
     "metadata": {
      "application/vnd.databricks.v1+output": {
       "datasetInfos": [],
       "data": "-11.45986049402116\n",
       "removedWidgets": [],
       "addedWidgets": {},
       "metadata": {},
       "type": "ansi",
       "arguments": {}
      }
     },
     "data": {
      "text/plain": "-11.45986049402116\n"
     }
    }
   ]
  },
  {
   "cell_type": "code",
   "metadata": {
    "application/vnd.databricks.v1+cell": {
     "title": "",
     "showTitle": false,
     "inputWidgets": {},
     "nuid": "8286cc27-78de-4cfb-8d0c-4b27093dc0a0"
    },
    "cell_id": "00027-76cec1e5-5d1d-4e78-bfe3-f21aba2283b3",
    "deepnote_cell_type": "code"
   },
   "source": "train_pred = lr_model.evaluate(train_df)\nprint(train_pred.r2)",
   "execution_count": 0,
   "outputs": [
    {
     "output_type": "display_data",
     "metadata": {
      "application/vnd.databricks.v1+output": {
       "datasetInfos": [],
       "data": "0.6888338423511803\n",
       "removedWidgets": [],
       "addedWidgets": {},
       "metadata": {},
       "type": "ansi",
       "arguments": {}
      }
     },
     "data": {
      "text/plain": "0.6888338423511803\n"
     }
    }
   ]
  },
  {
   "cell_type": "code",
   "metadata": {
    "application/vnd.databricks.v1+cell": {
     "title": "",
     "showTitle": false,
     "inputWidgets": {},
     "nuid": "49d0ba3b-220c-48f1-98f1-9f558594447c"
    },
    "cell_id": "00028-7d71c4ba-c157-4c5c-9f12-089f77f9b0f0",
    "deepnote_cell_type": "code"
   },
   "source": "test_res = lr_model.evaluate(test_df)\nprint(test_res.r2)",
   "execution_count": 0,
   "outputs": [
    {
     "output_type": "display_data",
     "metadata": {
      "application/vnd.databricks.v1+output": {
       "datasetInfos": [],
       "data": "0.3682640289952497\n",
       "removedWidgets": [],
       "addedWidgets": {},
       "metadata": {},
       "type": "ansi",
       "arguments": {}
      }
     },
     "data": {
      "text/plain": "0.3682640289952497\n"
     }
    }
   ]
  },
  {
   "cell_type": "code",
   "metadata": {
    "application/vnd.databricks.v1+cell": {
     "title": "",
     "showTitle": false,
     "inputWidgets": {},
     "nuid": "91a3f56f-fddb-435a-a60b-7205a11fa32a"
    },
    "cell_id": "00029-4bec7ce1-6e38-468e-85c2-02bec9b79f62",
    "deepnote_cell_type": "code"
   },
   "source": "print(test_res.rootMeanSquaredError)",
   "execution_count": 0,
   "outputs": [
    {
     "output_type": "display_data",
     "metadata": {
      "application/vnd.databricks.v1+output": {
       "datasetInfos": [],
       "data": "107.28691388158236\n",
       "removedWidgets": [],
       "addedWidgets": {},
       "metadata": {},
       "type": "ansi",
       "arguments": {}
      }
     },
     "data": {
      "text/plain": "107.28691388158236\n"
     }
    }
   ]
  },
  {
   "cell_type": "code",
   "metadata": {
    "application/vnd.databricks.v1+cell": {
     "title": "",
     "showTitle": false,
     "inputWidgets": {},
     "nuid": "65613a60-15b1-4c64-aba7-0858df45feb3"
    },
    "cell_id": "00030-3aefc609-6723-4229-bfdb-cf3d671af8ae",
    "deepnote_cell_type": "code"
   },
   "source": "test_res = lr_model.evaluate(test_df).predictions\ntest_res.show(10, False)",
   "execution_count": 0,
   "outputs": [
    {
     "output_type": "display_data",
     "metadata": {
      "application/vnd.databricks.v1+output": {
       "datasetInfos": [],
       "data": "+--------------------------------------------------------------------+-----+------------------+\n|features                                                            |price|prediction        |\n+--------------------------------------------------------------------+-----+------------------+\n|(1371,[0,4,82,1341,1368,1369,1370],[1.0,1.0,1.0,1.0,920.0,2.0,1.0]) |63.0 |47.9832743396163  |\n|(1371,[0,4,82,1341,1368,1369,1370],[1.0,1.0,1.0,1.0,925.0,2.0,1.0]) |35.0 |48.259046701160926|\n|(1371,[0,4,82,1341,1368,1369,1370],[1.0,1.0,1.0,1.0,1015.0,2.0,1.0])|45.0 |53.22294920896432 |\n|(1371,[0,4,82,1341,1368,1369,1370],[1.0,1.0,1.0,1.0,1050.0,2.0,3.0])|43.0 |61.1010391401626  |\n|(1371,[0,4,82,1341,1368,1369,1370],[1.0,1.0,1.0,1.0,1100.0,2.0,2.0])|52.0 |60.88492105541599 |\n|(1371,[0,4,82,1341,1368,1369,1370],[1.0,1.0,1.0,1.0,1102.0,2.0,1.0])|48.0 |58.02138829984092 |\n|(1371,[0,4,82,1341,1368,1369,1370],[1.0,1.0,1.0,1.0,1105.0,2.0,1.0])|35.4 |58.186851716767706|\n|(1371,[0,4,82,1341,1368,1369,1370],[1.0,1.0,1.0,1.0,1105.0,2.0,1.0])|41.36|58.186851716767706|\n|(1371,[0,4,82,1341,1368,1369,1370],[1.0,1.0,1.0,1.0,1105.0,2.0,2.0])|39.99|61.160693416960626|\n|(1371,[0,4,82,1341,1368,1369,1370],[1.0,1.0,1.0,1.0,1109.0,2.0,1.0])|35.22|58.4074696060034  |\n+--------------------------------------------------------------------+-----+------------------+\nonly showing top 10 rows\n\n",
       "removedWidgets": [],
       "addedWidgets": {},
       "metadata": {},
       "type": "ansi",
       "arguments": {}
      }
     },
     "data": {
      "text/plain": "+--------------------------------------------------------------------+-----+------------------+\n|features                                                            |price|prediction        |\n+--------------------------------------------------------------------+-----+------------------+\n|(1371,[0,4,82,1341,1368,1369,1370],[1.0,1.0,1.0,1.0,920.0,2.0,1.0]) |63.0 |47.9832743396163  |\n|(1371,[0,4,82,1341,1368,1369,1370],[1.0,1.0,1.0,1.0,925.0,2.0,1.0]) |35.0 |48.259046701160926|\n|(1371,[0,4,82,1341,1368,1369,1370],[1.0,1.0,1.0,1.0,1015.0,2.0,1.0])|45.0 |53.22294920896432 |\n|(1371,[0,4,82,1341,1368,1369,1370],[1.0,1.0,1.0,1.0,1050.0,2.0,3.0])|43.0 |61.1010391401626  |\n|(1371,[0,4,82,1341,1368,1369,1370],[1.0,1.0,1.0,1.0,1100.0,2.0,2.0])|52.0 |60.88492105541599 |\n|(1371,[0,4,82,1341,1368,1369,1370],[1.0,1.0,1.0,1.0,1102.0,2.0,1.0])|48.0 |58.02138829984092 |\n|(1371,[0,4,82,1341,1368,1369,1370],[1.0,1.0,1.0,1.0,1105.0,2.0,1.0])|35.4 |58.186851716767706|\n|(1371,[0,4,82,1341,1368,1369,1370],[1.0,1.0,1.0,1.0,1105.0,2.0,1.0])|41.36|58.186851716767706|\n|(1371,[0,4,82,1341,1368,1369,1370],[1.0,1.0,1.0,1.0,1105.0,2.0,2.0])|39.99|61.160693416960626|\n|(1371,[0,4,82,1341,1368,1369,1370],[1.0,1.0,1.0,1.0,1109.0,2.0,1.0])|35.22|58.4074696060034  |\n+--------------------------------------------------------------------+-----+------------------+\nonly showing top 10 rows\n\n"
     }
    }
   ]
  },
  {
   "cell_type": "code",
   "metadata": {
    "application/vnd.databricks.v1+cell": {
     "title": "",
     "showTitle": false,
     "inputWidgets": {},
     "nuid": "d7517f61-3beb-445b-b13a-c81084aa3e0d"
    },
    "cell_id": "00031-f9ed9f56-907c-4a6a-951d-feb6c65d2aa3",
    "deepnote_cell_type": "code"
   },
   "source": "test_res.select(['price','prediction']).show(10,False)",
   "execution_count": 0,
   "outputs": [
    {
     "output_type": "display_data",
     "metadata": {
      "application/vnd.databricks.v1+output": {
       "datasetInfos": [],
       "data": "+-----+------------------+\n|price|prediction        |\n+-----+------------------+\n|63.0 |47.9832743396163  |\n|35.0 |48.259046701160926|\n|45.0 |53.22294920896432 |\n|43.0 |61.1010391401626  |\n|52.0 |60.88492105541599 |\n|48.0 |58.02138829984092 |\n|35.4 |58.186851716767706|\n|41.36|58.186851716767706|\n|39.99|61.160693416960626|\n|35.22|58.4074696060034  |\n+-----+------------------+\nonly showing top 10 rows\n\n",
       "removedWidgets": [],
       "addedWidgets": {},
       "metadata": {},
       "type": "ansi",
       "arguments": {}
      }
     },
     "data": {
      "text/plain": "+-----+------------------+\n|price|prediction        |\n+-----+------------------+\n|63.0 |47.9832743396163  |\n|35.0 |48.259046701160926|\n|45.0 |53.22294920896432 |\n|43.0 |61.1010391401626  |\n|52.0 |60.88492105541599 |\n|48.0 |58.02138829984092 |\n|35.4 |58.186851716767706|\n|41.36|58.186851716767706|\n|39.99|61.160693416960626|\n|35.22|58.4074696060034  |\n+-----+------------------+\nonly showing top 10 rows\n\n"
     }
    }
   ]
  },
  {
   "cell_type": "code",
   "metadata": {
    "application/vnd.databricks.v1+cell": {
     "title": "",
     "showTitle": false,
     "inputWidgets": {},
     "nuid": "81f912c1-76cf-4ca1-aa2c-e141bd648ec0"
    },
    "cell_id": "00032-59b54afc-ccee-4bf3-942c-f943465c437c",
    "deepnote_cell_type": "code"
   },
   "source": "",
   "execution_count": 0,
   "outputs": [
    {
     "output_type": "display_data",
     "metadata": {
      "application/vnd.databricks.v1+output": {
       "data": "",
       "errorSummary": "",
       "metadata": {},
       "errorTraceType": null,
       "type": "ipynbError",
       "arguments": {}
      }
     },
     "data": {
      "text/html": "<style scoped>\n  .ansiout {\n    display: block;\n    unicode-bidi: embed;\n    white-space: pre-wrap;\n    word-wrap: break-word;\n    word-break: break-all;\n    font-family: \"Source Code Pro\", \"Menlo\", monospace;;\n    font-size: 13px;\n    color: #555;\n    margin-left: 4px;\n    line-height: 19px;\n  }\n</style>"
     }
    }
   ]
  },
  {
   "cell_type": "markdown",
   "source": "<a style='text-decoration:none;line-height:16px;display:flex;color:#5B5B62;padding:10px;justify-content:end;' href='https://deepnote.com?utm_source=created-in-deepnote-cell&projectId=4235e2a8-072b-477c-9e24-db5cfe03e525' target=\"_blank\">\n<img alt='Created in deepnote.com' style='display:inline;max-height:16px;margin:0px;margin-right:7.5px;' src='data:image/svg+xml;base64,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' > </img>\nCreated in <span style='font-weight:600;margin-left:4px;'>Deepnote</span></a>",
   "metadata": {
    "tags": [],
    "created_in_deepnote_cell": true,
    "deepnote_cell_type": "markdown"
   }
  }
 ],
 "nbformat": 4,
 "nbformat_minor": 0,
 "metadata": {
  "application/vnd.databricks.v1+notebook": {
   "notebookName": "Bangalore House Price Prediction",
   "dashboards": [],
   "notebookMetadata": {
    "pythonIndentUnit": 4
   },
   "language": "python",
   "widgets": {},
   "notebookOrigID": 1727626971547417
  },
  "deepnote_notebook_id": "577ffcbd-ade5-4c5f-82fb-aae00f2260d0",
  "deepnote": {},
  "deepnote_execution_queue": []
 }
}